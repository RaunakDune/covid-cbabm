{
 "cells": [
  {
   "cell_type": "code",
   "execution_count": 1,
   "metadata": {},
   "outputs": [],
   "source": [
    "import pandas as pd\n",
    "import numpy as np\n",
    "import matplotlib.pyplot as plt"
   ]
  },
  {
   "cell_type": "code",
   "execution_count": 2,
   "metadata": {},
   "outputs": [],
   "source": [
    "df = pd.read_csv(\"samples_human.csv\")"
   ]
  },
  {
   "cell_type": "code",
   "execution_count": 3,
   "metadata": {},
   "outputs": [
    {
     "data": {
      "text/html": [
       "<div>\n",
       "<style scoped>\n",
       "    .dataframe tbody tr th:only-of-type {\n",
       "        vertical-align: middle;\n",
       "    }\n",
       "\n",
       "    .dataframe tbody tr th {\n",
       "        vertical-align: top;\n",
       "    }\n",
       "\n",
       "    .dataframe thead th {\n",
       "        text-align: right;\n",
       "    }\n",
       "</style>\n",
       "<table border=\"1\" class=\"dataframe\">\n",
       "  <thead>\n",
       "    <tr style=\"text-align: right;\">\n",
       "      <th></th>\n",
       "      <th>Unnamed: 0</th>\n",
       "      <th>group</th>\n",
       "      <th>home</th>\n",
       "      <th>workplace</th>\n",
       "      <th>school</th>\n",
       "      <th>hospital</th>\n",
       "      <th>supermarket</th>\n",
       "    </tr>\n",
       "  </thead>\n",
       "  <tbody>\n",
       "    <tr>\n",
       "      <th>0</th>\n",
       "      <td>0</td>\n",
       "      <td>unemployed</td>\n",
       "      <td>0.9</td>\n",
       "      <td>0.0</td>\n",
       "      <td>0.0</td>\n",
       "      <td>0.0</td>\n",
       "      <td>0.2</td>\n",
       "    </tr>\n",
       "    <tr>\n",
       "      <th>1</th>\n",
       "      <td>1</td>\n",
       "      <td>employed</td>\n",
       "      <td>0.3</td>\n",
       "      <td>0.5</td>\n",
       "      <td>0.0</td>\n",
       "      <td>0.0</td>\n",
       "      <td>0.6</td>\n",
       "    </tr>\n",
       "    <tr>\n",
       "      <th>2</th>\n",
       "      <td>2</td>\n",
       "      <td>student</td>\n",
       "      <td>0.7</td>\n",
       "      <td>0.2</td>\n",
       "      <td>0.5</td>\n",
       "      <td>0.0</td>\n",
       "      <td>0.1</td>\n",
       "    </tr>\n",
       "    <tr>\n",
       "      <th>3</th>\n",
       "      <td>3</td>\n",
       "      <td>unemployed</td>\n",
       "      <td>0.8</td>\n",
       "      <td>0.0</td>\n",
       "      <td>0.0</td>\n",
       "      <td>0.0</td>\n",
       "      <td>0.0</td>\n",
       "    </tr>\n",
       "    <tr>\n",
       "      <th>4</th>\n",
       "      <td>4</td>\n",
       "      <td>healthcare</td>\n",
       "      <td>0.1</td>\n",
       "      <td>0.0</td>\n",
       "      <td>0.0</td>\n",
       "      <td>0.9</td>\n",
       "      <td>0.0</td>\n",
       "    </tr>\n",
       "    <tr>\n",
       "      <th>...</th>\n",
       "      <td>...</td>\n",
       "      <td>...</td>\n",
       "      <td>...</td>\n",
       "      <td>...</td>\n",
       "      <td>...</td>\n",
       "      <td>...</td>\n",
       "      <td>...</td>\n",
       "    </tr>\n",
       "    <tr>\n",
       "      <th>1995</th>\n",
       "      <td>1995</td>\n",
       "      <td>healthcare</td>\n",
       "      <td>0.3</td>\n",
       "      <td>0.0</td>\n",
       "      <td>0.0</td>\n",
       "      <td>0.9</td>\n",
       "      <td>0.0</td>\n",
       "    </tr>\n",
       "    <tr>\n",
       "      <th>1996</th>\n",
       "      <td>1996</td>\n",
       "      <td>unemployed</td>\n",
       "      <td>0.9</td>\n",
       "      <td>0.2</td>\n",
       "      <td>0.0</td>\n",
       "      <td>0.0</td>\n",
       "      <td>0.2</td>\n",
       "    </tr>\n",
       "    <tr>\n",
       "      <th>1997</th>\n",
       "      <td>1997</td>\n",
       "      <td>healthcare</td>\n",
       "      <td>0.4</td>\n",
       "      <td>0.0</td>\n",
       "      <td>0.2</td>\n",
       "      <td>0.5</td>\n",
       "      <td>0.4</td>\n",
       "    </tr>\n",
       "    <tr>\n",
       "      <th>1998</th>\n",
       "      <td>1998</td>\n",
       "      <td>healthcare</td>\n",
       "      <td>0.2</td>\n",
       "      <td>0.0</td>\n",
       "      <td>0.0</td>\n",
       "      <td>0.9</td>\n",
       "      <td>0.1</td>\n",
       "    </tr>\n",
       "    <tr>\n",
       "      <th>1999</th>\n",
       "      <td>1999</td>\n",
       "      <td>student</td>\n",
       "      <td>0.5</td>\n",
       "      <td>0.0</td>\n",
       "      <td>0.8</td>\n",
       "      <td>0.0</td>\n",
       "      <td>0.1</td>\n",
       "    </tr>\n",
       "  </tbody>\n",
       "</table>\n",
       "<p>2000 rows × 7 columns</p>\n",
       "</div>"
      ],
      "text/plain": [
       "      Unnamed: 0       group  home  workplace  school  hospital  supermarket\n",
       "0              0  unemployed   0.9        0.0     0.0       0.0          0.2\n",
       "1              1    employed   0.3        0.5     0.0       0.0          0.6\n",
       "2              2     student   0.7        0.2     0.5       0.0          0.1\n",
       "3              3  unemployed   0.8        0.0     0.0       0.0          0.0\n",
       "4              4  healthcare   0.1        0.0     0.0       0.9          0.0\n",
       "...          ...         ...   ...        ...     ...       ...          ...\n",
       "1995        1995  healthcare   0.3        0.0     0.0       0.9          0.0\n",
       "1996        1996  unemployed   0.9        0.2     0.0       0.0          0.2\n",
       "1997        1997  healthcare   0.4        0.0     0.2       0.5          0.4\n",
       "1998        1998  healthcare   0.2        0.0     0.0       0.9          0.1\n",
       "1999        1999     student   0.5        0.0     0.8       0.0          0.1\n",
       "\n",
       "[2000 rows x 7 columns]"
      ]
     },
     "execution_count": 3,
     "metadata": {},
     "output_type": "execute_result"
    }
   ],
   "source": [
    "df"
   ]
  },
  {
   "cell_type": "code",
   "execution_count": 4,
   "metadata": {},
   "outputs": [
    {
     "data": {
      "text/html": [
       "<div>\n",
       "<style scoped>\n",
       "    .dataframe tbody tr th:only-of-type {\n",
       "        vertical-align: middle;\n",
       "    }\n",
       "\n",
       "    .dataframe tbody tr th {\n",
       "        vertical-align: top;\n",
       "    }\n",
       "\n",
       "    .dataframe thead th {\n",
       "        text-align: right;\n",
       "    }\n",
       "</style>\n",
       "<table border=\"1\" class=\"dataframe\">\n",
       "  <thead>\n",
       "    <tr style=\"text-align: right;\">\n",
       "      <th></th>\n",
       "      <th>Unnamed: 0</th>\n",
       "      <th>group</th>\n",
       "      <th>home</th>\n",
       "      <th>workplace</th>\n",
       "      <th>school</th>\n",
       "      <th>hospital</th>\n",
       "      <th>supermarket</th>\n",
       "      <th>groupID</th>\n",
       "    </tr>\n",
       "  </thead>\n",
       "  <tbody>\n",
       "    <tr>\n",
       "      <th>0</th>\n",
       "      <td>0</td>\n",
       "      <td>unemployed</td>\n",
       "      <td>0.9</td>\n",
       "      <td>0.0</td>\n",
       "      <td>0.0</td>\n",
       "      <td>0.0</td>\n",
       "      <td>0.2</td>\n",
       "      <td>4</td>\n",
       "    </tr>\n",
       "    <tr>\n",
       "      <th>1</th>\n",
       "      <td>1</td>\n",
       "      <td>employed</td>\n",
       "      <td>0.3</td>\n",
       "      <td>0.5</td>\n",
       "      <td>0.0</td>\n",
       "      <td>0.0</td>\n",
       "      <td>0.6</td>\n",
       "      <td>3</td>\n",
       "    </tr>\n",
       "    <tr>\n",
       "      <th>2</th>\n",
       "      <td>2</td>\n",
       "      <td>student</td>\n",
       "      <td>0.7</td>\n",
       "      <td>0.2</td>\n",
       "      <td>0.5</td>\n",
       "      <td>0.0</td>\n",
       "      <td>0.1</td>\n",
       "      <td>1</td>\n",
       "    </tr>\n",
       "    <tr>\n",
       "      <th>3</th>\n",
       "      <td>3</td>\n",
       "      <td>unemployed</td>\n",
       "      <td>0.8</td>\n",
       "      <td>0.0</td>\n",
       "      <td>0.0</td>\n",
       "      <td>0.0</td>\n",
       "      <td>0.0</td>\n",
       "      <td>4</td>\n",
       "    </tr>\n",
       "    <tr>\n",
       "      <th>4</th>\n",
       "      <td>4</td>\n",
       "      <td>healthcare</td>\n",
       "      <td>0.1</td>\n",
       "      <td>0.0</td>\n",
       "      <td>0.0</td>\n",
       "      <td>0.9</td>\n",
       "      <td>0.0</td>\n",
       "      <td>2</td>\n",
       "    </tr>\n",
       "    <tr>\n",
       "      <th>...</th>\n",
       "      <td>...</td>\n",
       "      <td>...</td>\n",
       "      <td>...</td>\n",
       "      <td>...</td>\n",
       "      <td>...</td>\n",
       "      <td>...</td>\n",
       "      <td>...</td>\n",
       "      <td>...</td>\n",
       "    </tr>\n",
       "    <tr>\n",
       "      <th>1995</th>\n",
       "      <td>1995</td>\n",
       "      <td>healthcare</td>\n",
       "      <td>0.3</td>\n",
       "      <td>0.0</td>\n",
       "      <td>0.0</td>\n",
       "      <td>0.9</td>\n",
       "      <td>0.0</td>\n",
       "      <td>2</td>\n",
       "    </tr>\n",
       "    <tr>\n",
       "      <th>1996</th>\n",
       "      <td>1996</td>\n",
       "      <td>unemployed</td>\n",
       "      <td>0.9</td>\n",
       "      <td>0.2</td>\n",
       "      <td>0.0</td>\n",
       "      <td>0.0</td>\n",
       "      <td>0.2</td>\n",
       "      <td>4</td>\n",
       "    </tr>\n",
       "    <tr>\n",
       "      <th>1997</th>\n",
       "      <td>1997</td>\n",
       "      <td>healthcare</td>\n",
       "      <td>0.4</td>\n",
       "      <td>0.0</td>\n",
       "      <td>0.2</td>\n",
       "      <td>0.5</td>\n",
       "      <td>0.4</td>\n",
       "      <td>2</td>\n",
       "    </tr>\n",
       "    <tr>\n",
       "      <th>1998</th>\n",
       "      <td>1998</td>\n",
       "      <td>healthcare</td>\n",
       "      <td>0.2</td>\n",
       "      <td>0.0</td>\n",
       "      <td>0.0</td>\n",
       "      <td>0.9</td>\n",
       "      <td>0.1</td>\n",
       "      <td>2</td>\n",
       "    </tr>\n",
       "    <tr>\n",
       "      <th>1999</th>\n",
       "      <td>1999</td>\n",
       "      <td>student</td>\n",
       "      <td>0.5</td>\n",
       "      <td>0.0</td>\n",
       "      <td>0.8</td>\n",
       "      <td>0.0</td>\n",
       "      <td>0.1</td>\n",
       "      <td>1</td>\n",
       "    </tr>\n",
       "  </tbody>\n",
       "</table>\n",
       "<p>2000 rows × 8 columns</p>\n",
       "</div>"
      ],
      "text/plain": [
       "      Unnamed: 0       group  home  workplace  school  hospital  supermarket  \\\n",
       "0              0  unemployed   0.9        0.0     0.0       0.0          0.2   \n",
       "1              1    employed   0.3        0.5     0.0       0.0          0.6   \n",
       "2              2     student   0.7        0.2     0.5       0.0          0.1   \n",
       "3              3  unemployed   0.8        0.0     0.0       0.0          0.0   \n",
       "4              4  healthcare   0.1        0.0     0.0       0.9          0.0   \n",
       "...          ...         ...   ...        ...     ...       ...          ...   \n",
       "1995        1995  healthcare   0.3        0.0     0.0       0.9          0.0   \n",
       "1996        1996  unemployed   0.9        0.2     0.0       0.0          0.2   \n",
       "1997        1997  healthcare   0.4        0.0     0.2       0.5          0.4   \n",
       "1998        1998  healthcare   0.2        0.0     0.0       0.9          0.1   \n",
       "1999        1999     student   0.5        0.0     0.8       0.0          0.1   \n",
       "\n",
       "      groupID  \n",
       "0           4  \n",
       "1           3  \n",
       "2           1  \n",
       "3           4  \n",
       "4           2  \n",
       "...       ...  \n",
       "1995        2  \n",
       "1996        4  \n",
       "1997        2  \n",
       "1998        2  \n",
       "1999        1  \n",
       "\n",
       "[2000 rows x 8 columns]"
      ]
     },
     "execution_count": 4,
     "metadata": {},
     "output_type": "execute_result"
    }
   ],
   "source": [
    "convert = {\"student\": 1, \"healthcare\": 2, \"employed\": 3, \"unemployed\":4}\n",
    "convertList = list()\n",
    "for i in df[\"group\"].values:\n",
    "  #  print(i)\n",
    "    convertList.append(convert[i])\n",
    "df[\"groupID\"] = convertList\n",
    "df"
   ]
  },
  {
   "cell_type": "code",
   "execution_count": 5,
   "metadata": {},
   "outputs": [
    {
     "data": {
      "text/plain": [
       "0       4\n",
       "1       3\n",
       "2       1\n",
       "3       4\n",
       "4       2\n",
       "       ..\n",
       "1995    2\n",
       "1996    4\n",
       "1997    2\n",
       "1998    2\n",
       "1999    1\n",
       "Name: groupID, Length: 2000, dtype: int64"
      ]
     },
     "execution_count": 5,
     "metadata": {},
     "output_type": "execute_result"
    }
   ],
   "source": [
    "y = df[\"groupID\"]\n",
    "y"
   ]
  },
  {
   "cell_type": "code",
   "execution_count": 6,
   "metadata": {},
   "outputs": [],
   "source": [
    "x = df[[\"home\",\"workplace\", \"school\", \"hospital\", \"supermarket\"]]"
   ]
  },
  {
   "cell_type": "code",
   "execution_count": 7,
   "metadata": {},
   "outputs": [
    {
     "data": {
      "text/html": [
       "<div>\n",
       "<style scoped>\n",
       "    .dataframe tbody tr th:only-of-type {\n",
       "        vertical-align: middle;\n",
       "    }\n",
       "\n",
       "    .dataframe tbody tr th {\n",
       "        vertical-align: top;\n",
       "    }\n",
       "\n",
       "    .dataframe thead th {\n",
       "        text-align: right;\n",
       "    }\n",
       "</style>\n",
       "<table border=\"1\" class=\"dataframe\">\n",
       "  <thead>\n",
       "    <tr style=\"text-align: right;\">\n",
       "      <th></th>\n",
       "      <th>home</th>\n",
       "      <th>workplace</th>\n",
       "      <th>school</th>\n",
       "      <th>hospital</th>\n",
       "      <th>supermarket</th>\n",
       "    </tr>\n",
       "  </thead>\n",
       "  <tbody>\n",
       "    <tr>\n",
       "      <th>0</th>\n",
       "      <td>0.9</td>\n",
       "      <td>0.0</td>\n",
       "      <td>0.0</td>\n",
       "      <td>0.0</td>\n",
       "      <td>0.2</td>\n",
       "    </tr>\n",
       "    <tr>\n",
       "      <th>1</th>\n",
       "      <td>0.3</td>\n",
       "      <td>0.5</td>\n",
       "      <td>0.0</td>\n",
       "      <td>0.0</td>\n",
       "      <td>0.6</td>\n",
       "    </tr>\n",
       "    <tr>\n",
       "      <th>2</th>\n",
       "      <td>0.7</td>\n",
       "      <td>0.2</td>\n",
       "      <td>0.5</td>\n",
       "      <td>0.0</td>\n",
       "      <td>0.1</td>\n",
       "    </tr>\n",
       "    <tr>\n",
       "      <th>3</th>\n",
       "      <td>0.8</td>\n",
       "      <td>0.0</td>\n",
       "      <td>0.0</td>\n",
       "      <td>0.0</td>\n",
       "      <td>0.0</td>\n",
       "    </tr>\n",
       "    <tr>\n",
       "      <th>4</th>\n",
       "      <td>0.1</td>\n",
       "      <td>0.0</td>\n",
       "      <td>0.0</td>\n",
       "      <td>0.9</td>\n",
       "      <td>0.0</td>\n",
       "    </tr>\n",
       "    <tr>\n",
       "      <th>...</th>\n",
       "      <td>...</td>\n",
       "      <td>...</td>\n",
       "      <td>...</td>\n",
       "      <td>...</td>\n",
       "      <td>...</td>\n",
       "    </tr>\n",
       "    <tr>\n",
       "      <th>1995</th>\n",
       "      <td>0.3</td>\n",
       "      <td>0.0</td>\n",
       "      <td>0.0</td>\n",
       "      <td>0.9</td>\n",
       "      <td>0.0</td>\n",
       "    </tr>\n",
       "    <tr>\n",
       "      <th>1996</th>\n",
       "      <td>0.9</td>\n",
       "      <td>0.2</td>\n",
       "      <td>0.0</td>\n",
       "      <td>0.0</td>\n",
       "      <td>0.2</td>\n",
       "    </tr>\n",
       "    <tr>\n",
       "      <th>1997</th>\n",
       "      <td>0.4</td>\n",
       "      <td>0.0</td>\n",
       "      <td>0.2</td>\n",
       "      <td>0.5</td>\n",
       "      <td>0.4</td>\n",
       "    </tr>\n",
       "    <tr>\n",
       "      <th>1998</th>\n",
       "      <td>0.2</td>\n",
       "      <td>0.0</td>\n",
       "      <td>0.0</td>\n",
       "      <td>0.9</td>\n",
       "      <td>0.1</td>\n",
       "    </tr>\n",
       "    <tr>\n",
       "      <th>1999</th>\n",
       "      <td>0.5</td>\n",
       "      <td>0.0</td>\n",
       "      <td>0.8</td>\n",
       "      <td>0.0</td>\n",
       "      <td>0.1</td>\n",
       "    </tr>\n",
       "  </tbody>\n",
       "</table>\n",
       "<p>2000 rows × 5 columns</p>\n",
       "</div>"
      ],
      "text/plain": [
       "      home  workplace  school  hospital  supermarket\n",
       "0      0.9        0.0     0.0       0.0          0.2\n",
       "1      0.3        0.5     0.0       0.0          0.6\n",
       "2      0.7        0.2     0.5       0.0          0.1\n",
       "3      0.8        0.0     0.0       0.0          0.0\n",
       "4      0.1        0.0     0.0       0.9          0.0\n",
       "...    ...        ...     ...       ...          ...\n",
       "1995   0.3        0.0     0.0       0.9          0.0\n",
       "1996   0.9        0.2     0.0       0.0          0.2\n",
       "1997   0.4        0.0     0.2       0.5          0.4\n",
       "1998   0.2        0.0     0.0       0.9          0.1\n",
       "1999   0.5        0.0     0.8       0.0          0.1\n",
       "\n",
       "[2000 rows x 5 columns]"
      ]
     },
     "execution_count": 7,
     "metadata": {},
     "output_type": "execute_result"
    }
   ],
   "source": [
    "x"
   ]
  },
  {
   "cell_type": "code",
   "execution_count": 8,
   "metadata": {},
   "outputs": [],
   "source": [
    "import sklearn\n",
    "from sklearn.model_selection import train_test_split\n",
    "X_train, X_test, y_train, y_test = train_test_split(x, y, test_size = 0.25, random_state = 0)"
   ]
  },
  {
   "cell_type": "code",
   "execution_count": 9,
   "metadata": {},
   "outputs": [],
   "source": [
    "# using feature scaling\n",
    "from sklearn.preprocessing import StandardScaler\n",
    "X_sc = StandardScaler()\n",
    "X_train = X_sc.fit_transform(X_train)"
   ]
  },
  {
   "cell_type": "code",
   "execution_count": 10,
   "metadata": {},
   "outputs": [
    {
     "data": {
      "text/plain": [
       "DecisionTreeRegressor(ccp_alpha=0.0, criterion='mse', max_depth=None,\n",
       "                      max_features=None, max_leaf_nodes=None,\n",
       "                      min_impurity_decrease=0.0, min_impurity_split=None,\n",
       "                      min_samples_leaf=1, min_samples_split=2,\n",
       "                      min_weight_fraction_leaf=0.0, presort='deprecated',\n",
       "                      random_state=0, splitter='best')"
      ]
     },
     "execution_count": 10,
     "metadata": {},
     "output_type": "execute_result"
    }
   ],
   "source": [
    "# training the dataset\n",
    "from sklearn.tree import DecisionTreeRegressor\n",
    "regrassor = DecisionTreeRegressor(random_state = 0)\n",
    "regrassor.fit(X_train, y_train)"
   ]
  },
  {
   "cell_type": "code",
   "execution_count": 11,
   "metadata": {},
   "outputs": [
    {
     "name": "stdout",
     "output_type": "stream",
     "text": [
      "              precision    recall  f1-score   support\n",
      "\n",
      "           1       0.72      1.00      0.83       121\n",
      "           2       1.00      1.00      1.00       157\n",
      "           3       0.51      0.86      0.64       105\n",
      "           4       1.00      0.56      0.72       277\n",
      "\n",
      "    accuracy                           0.79       660\n",
      "   macro avg       0.81      0.86      0.80       660\n",
      "weighted avg       0.87      0.79      0.79       660\n",
      "\n"
     ]
    }
   ],
   "source": [
    "X_train1, X_test1, y_train1, y_test1 = train_test_split(x, y, test_size=0.33, random_state=42)\n",
    "from sklearn.tree import DecisionTreeClassifier \n",
    "from sklearn import tree\n",
    "dtree_model = DecisionTreeClassifier(max_depth = 4).fit(X_train1, y_train1) \n",
    "dtree_predictions = dtree_model.predict(X_test1) \n",
    "from sklearn.metrics import classification_report\n",
    "print(classification_report(dtree_predictions,y_test1))\n"
   ]
  },
  {
   "cell_type": "code",
   "execution_count": 12,
   "metadata": {},
   "outputs": [],
   "source": [
    "###healthcare\n",
    "health_df = df.loc[df['group'] == 'healthcare']\n",
    "home_df = health_df.sort_values(\"home\")"
   ]
  },
  {
   "cell_type": "raw",
   "metadata": {},
   "source": [
    "X = student_df.iloc[:, 2:3].values\n",
    "X"
   ]
  },
  {
   "cell_type": "raw",
   "metadata": {},
   "source": [
    "y = student_df.iloc[:, 3:7].values\n",
    "y"
   ]
  },
  {
   "cell_type": "code",
   "execution_count": 13,
   "metadata": {},
   "outputs": [
    {
     "data": {
      "text/plain": [
       "DecisionTreeRegressor(ccp_alpha=0.0, criterion='mse', max_depth=None,\n",
       "                      max_features=None, max_leaf_nodes=None,\n",
       "                      min_impurity_decrease=0.0, min_impurity_split=None,\n",
       "                      min_samples_leaf=1, min_samples_split=2,\n",
       "                      min_weight_fraction_leaf=0.0, presort='deprecated',\n",
       "                      random_state=0, splitter='best')"
      ]
     },
     "execution_count": 13,
     "metadata": {},
     "output_type": "execute_result"
    }
   ],
   "source": [
    "#predict home -workplace\n",
    "X = home_df.iloc[:, 2:3].values\n",
    "y = home_df.iloc[:, 3:4].values\n",
    "# It doesn't need to split the dataset because we have a small dataset\n",
    "#3 Fitting the Decision Tree Regression Model to the dataset\n",
    "# Create the Decision Tree regressor object here\n",
    "from sklearn.tree import DecisionTreeRegressor\n",
    "#DecisionTreeRegressor class has many parameters. Input only #random_state=0 or 42.\n",
    "regressor = DecisionTreeRegressor(random_state=0)\n",
    "#Fit the regressor object to the dataset.\n",
    "regressor.fit(X,y)"
   ]
  },
  {
   "cell_type": "code",
   "execution_count": 14,
   "metadata": {},
   "outputs": [
    {
     "data": {
      "image/png": "[encoded data removed]",
      "text/plain": [
       "<Figure size 432x288 with 1 Axes>"
      ]
     },
     "metadata": {
      "needs_background": "light"
     },
     "output_type": "display_data"
    }
   ],
   "source": [
    "#y_pred = regressor.predict(X)\n",
    "#5 Visualising the Decision Tree Regression results\n",
    "plt.scatter(X, y, color = 'red')\n",
    "plt.plot(X, regressor.predict(X), color = 'blue')\n",
    "plt.title('Home to Workplace (Regression Model)')\n",
    "plt.xlabel('Home')\n",
    "plt.ylabel('Workplace')\n",
    "plt.show()"
   ]
  },
  {
   "cell_type": "code",
   "execution_count": 15,
   "metadata": {},
   "outputs": [
    {
     "data": {
      "image/png": "[encoded data removed]",
      "text/plain": [
       "<Figure size 432x288 with 1 Axes>"
      ]
     },
     "metadata": {
      "needs_background": "light"
     },
     "output_type": "display_data"
    }
   ],
   "source": [
    "#predict home -school\n",
    "X = home_df.iloc[:, 2:3].values\n",
    "y1 = home_df.iloc[:, 4:5].values\n",
    "# It doesn't need to split the dataset because we have a small dataset\n",
    "#3 Fitting the Decision Tree Regression Model to the dataset\n",
    "# Create the Decision Tree regressor object here\n",
    "from sklearn.tree import DecisionTreeRegressor\n",
    "#DecisionTreeRegressor class has many parameters. Input only #random_state=0 or 42.\n",
    "regressor1 = DecisionTreeRegressor(random_state=0)\n",
    "#Fit the regressor object to the dataset.\n",
    "regressor1.fit(X,y1)\n",
    "#y_pred = regressor.predict(X)\n",
    "#5 Visualising the Decision Tree Regression results\n",
    "plt.scatter(X, y1, color = 'red')\n",
    "plt.plot(X, regressor1.predict(X), color = 'blue')\n",
    "plt.title('Home to School (Regression Model)')\n",
    "plt.xlabel('Home')\n",
    "plt.ylabel('School')\n",
    "plt.show()"
   ]
  },
  {
   "cell_type": "code",
   "execution_count": 16,
   "metadata": {},
   "outputs": [
    {
     "data": {
      "image/png": "[encoded data removed]",
      "text/plain": [
       "<Figure size 432x288 with 1 Axes>"
      ]
     },
     "metadata": {
      "needs_background": "light"
     },
     "output_type": "display_data"
    }
   ],
   "source": [
    "#predict home - hospital\n",
    "X = home_df.iloc[:, 2:3].values\n",
    "y2 = home_df.iloc[:, 5:6].values\n",
    "# It doesn't need to split the dataset because we have a small dataset\n",
    "#3 Fitting the Decision Tree Regression Model to the dataset\n",
    "# Create the Decision Tree regressor object here\n",
    "from sklearn.tree import DecisionTreeRegressor\n",
    "#DecisionTreeRegressor class has many parameters. Input only #random_state=0 or 42.\n",
    "regressor2 = DecisionTreeRegressor(random_state=0)\n",
    "#Fit the regressor object to the dataset.\n",
    "regressor2.fit(X,y2)\n",
    "#y_pred = regressor.predict(X)\n",
    "#5 Visualising the Decision Tree Regression results\n",
    "plt.scatter(X, y2, color = 'red')\n",
    "plt.plot(X, regressor2.predict(X), color = 'blue')\n",
    "plt.title('Home to Hospital (Regression Model)')\n",
    "plt.xlabel('Home')\n",
    "plt.ylabel('Hospital')\n",
    "plt.show()"
   ]
  },
  {
   "cell_type": "code",
   "execution_count": 17,
   "metadata": {},
   "outputs": [
    {
     "data": {
      "image/png": "[encoded data removed]",
      "text/plain": [
       "<Figure size 432x288 with 1 Axes>"
      ]
     },
     "metadata": {
      "needs_background": "light"
     },
     "output_type": "display_data"
    }
   ],
   "source": [
    "#predict home - supermarket\n",
    "X = home_df.iloc[:, 2:3].values\n",
    "y3 = home_df.iloc[:, 6:7].values\n",
    "# It doesn't need to split the dataset because we have a small dataset\n",
    "#3 Fitting the Decision Tree Regression Model to the dataset\n",
    "# Create the Decision Tree regressor object here\n",
    "from sklearn.tree import DecisionTreeRegressor\n",
    "#DecisionTreeRegressor class has many parameters. Input only #random_state=0 or 42.\n",
    "regressor3 = DecisionTreeRegressor(random_state=0)\n",
    "#Fit the regressor object to the dataset.\n",
    "regressor3.fit(X,y3)\n",
    "#y_pred = regressor.predict(X)\n",
    "#5 Visualising the Decision Tree Regression results\n",
    "plt.scatter(X, y3, color = 'red')\n",
    "plt.plot(X, regressor3.predict(X), color = 'blue')\n",
    "plt.title('Home to Market (Regression Model)')\n",
    "plt.xlabel('Home')\n",
    "plt.ylabel('Market')\n",
    "plt.show()"
   ]
  },
  {
   "cell_type": "code",
   "execution_count": 18,
   "metadata": {},
   "outputs": [
    {
     "data": {
      "image/png": "[encoded data removed]",
      "text/plain": [
       "<Figure size 432x288 with 1 Axes>"
      ]
     },
     "metadata": {
      "needs_background": "light"
     },
     "output_type": "display_data"
    }
   ],
   "source": [
    "from matplotlib.patches import Rectangle\n",
    "plt.plot(X, regressor.predict(X), color = 'blue')\n",
    "plt.plot(X, regressor1.predict(X), color = 'red')\n",
    "plt.plot(X, regressor2.predict(X), color = 'yellow')\n",
    "plt.plot(X, regressor3.predict(X), color = 'green')\n",
    "plt.title('Healthcare- Home to other POIs (Regression Model)')\n",
    "plt.xlabel('Home probability')\n",
    "plt.ylabel('Probability of visiting POIs')\n",
    "colors = ['blue', 'red', 'yellow', 'green']\n",
    "\n",
    "\n",
    "handles = [Rectangle((0, 0), 1, 1, color=c, ec=\"k\") for c in colors]\n",
    "labels = [\"home to workplace\", \"home to school\", \"home to hospital\", \"home to service\"]\n",
    "plt.legend(handles, labels, loc=\"center left\", bbox_to_anchor=(1, 0.5))\n",
    "plt.show()"
   ]
  },
  {
   "cell_type": "code",
   "execution_count": 19,
   "metadata": {},
   "outputs": [],
   "source": [
    "### Starting from workplace"
   ]
  },
  {
   "cell_type": "code",
   "execution_count": 20,
   "metadata": {},
   "outputs": [
    {
     "data": {
      "image/png": "[encoded data removed]",
      "text/plain": [
       "<Figure size 432x288 with 1 Axes>"
      ]
     },
     "metadata": {
      "needs_background": "light"
     },
     "output_type": "display_data"
    }
   ],
   "source": [
    "#work-home\n",
    "work_df = health_df.sort_values(\"workplace\")\n",
    "X1 = work_df.iloc[:, 3:4].values\n",
    "y = work_df.iloc[:, 2:3].values\n",
    "# It doesn't need to split the dataset because we have a small dataset\n",
    "#3 Fitting the Decision Tree Regression Model to the dataset\n",
    "# Create the Decision Tree regressor object here\n",
    "from sklearn.tree import DecisionTreeRegressor\n",
    "#DecisionTreeRegressor class has many parameters. Input only #random_state=0 or 42.\n",
    "regressor = DecisionTreeRegressor(random_state=0)\n",
    "#Fit the regressor object to the dataset.\n",
    "regressor.fit(X1,y)\n",
    "#work-school\n",
    "y1 = work_df.iloc[:, 4:5].values\n",
    "# It doesn't need to split the dataset because we have a small dataset\n",
    "#3 Fitting the Decision Tree Regression Model to the dataset\n",
    "# Create the Decision Tree regressor object here\n",
    "from sklearn.tree import DecisionTreeRegressor\n",
    "#DecisionTreeRegressor class has many parameters. Input only #random_state=0 or 42.\n",
    "regressor1 = DecisionTreeRegressor(random_state=0)\n",
    "#Fit the regressor object to the dataset.\n",
    "regressor1.fit(X1,y1)\n",
    "#work-hospital\n",
    "y2 = work_df.iloc[:, 5:6].values\n",
    "# It doesn't need to split the dataset because we have a small dataset\n",
    "#3 Fitting the Decision Tree Regression Model to the dataset\n",
    "# Create the Decision Tree regressor object here\n",
    "from sklearn.tree import DecisionTreeRegressor\n",
    "#DecisionTreeRegressor class has many parameters. Input only #random_state=0 or 42.\n",
    "regressor2 = DecisionTreeRegressor(random_state=0)\n",
    "#Fit the regressor object to the dataset.\n",
    "regressor2.fit(X1,y2)\n",
    "#work-market\n",
    "y3 = work_df.iloc[:, 6:7].values\n",
    "# It doesn't need to split the dataset because we have a small dataset\n",
    "#3 Fitting the Decision Tree Regression Model to the dataset\n",
    "# Create the Decision Tree regressor object here\n",
    "from sklearn.tree import DecisionTreeRegressor\n",
    "#DecisionTreeRegressor class has many parameters. Input only #random_state=0 or 42.\n",
    "regressor3 = DecisionTreeRegressor(random_state=0)\n",
    "#Fit the regressor object to the dataset.\n",
    "regressor3.fit(X1,y3)\n",
    "#y_pred = regressor.p\n",
    "\n",
    "plt.plot(X1, regressor.predict(X1), color = 'blue')\n",
    "plt.plot(X1, regressor1.predict(X1), color = 'red')\n",
    "plt.plot(X1, regressor2.predict(X1), color = 'yellow')\n",
    "plt.plot(X1, regressor3.predict(X1), color = 'green')\n",
    "plt.title('Healthcare- Workplace to other POIs (Regression Model)')\n",
    "plt.xlabel('work probability')\n",
    "plt.ylabel('Probability of visiting POIs')\n",
    "colors = ['blue', 'red', 'yellow', 'green']\n",
    "\n",
    "\n",
    "handles = [Rectangle((0, 0), 1, 1, color=c, ec=\"k\") for c in colors]\n",
    "labels = [\"Workplace to Home\", \"Workplace to school\", \"Workplace to hospital\", \"Workplace to service\"]\n",
    "plt.legend(handles, labels, loc=\"center left\", bbox_to_anchor=(1, 0.5))\n",
    "plt.show()"
   ]
  },
  {
   "cell_type": "code",
   "execution_count": 21,
   "metadata": {},
   "outputs": [
    {
     "data": {
      "image/png": "[encoded data removed]",
      "text/plain": [
       "<Figure size 432x288 with 1 Axes>"
      ]
     },
     "metadata": {
      "needs_background": "light"
     },
     "output_type": "display_data"
    }
   ],
   "source": [
    "\n",
    "school_df = health_df.sort_values(\"school\")\n",
    "#school-home\n",
    "X2 = school_df.iloc[:, 4:5].values\n",
    "y = school_df.iloc[:, 2:3].values\n",
    "# It doesn't need to split the dataset because we have a small dataset\n",
    "#3 Fitting the Decision Tree Regression Model to the dataset\n",
    "# Create the Decision Tree regressor object here\n",
    "from sklearn.tree import DecisionTreeRegressor\n",
    "#DecisionTreeRegressor class has many parameters. Input only #random_state=0 or 42.\n",
    "regressor = DecisionTreeRegressor(random_state=0)\n",
    "#Fit the regressor object to the dataset.\n",
    "regressor.fit(X2,y)\n",
    "#school-work\n",
    "y1 = school_df.iloc[:, 3:4].values\n",
    "# It doesn't need to split the dataset because we have a small dataset\n",
    "#3 Fitting the Decision Tree Regression Model to the dataset\n",
    "# Create the Decision Tree regressor object here\n",
    "from sklearn.tree import DecisionTreeRegressor\n",
    "#DecisionTreeRegressor class has many parameters. Input only #random_state=0 or 42.\n",
    "regressor1 = DecisionTreeRegressor(random_state=0)\n",
    "#Fit the regressor object to the dataset.\n",
    "regressor1.fit(X2,y1)\n",
    "#school-hospital\n",
    "y2 = school_df.iloc[:, 5:6].values\n",
    "# It doesn't need to split the dataset because we have a small dataset\n",
    "#3 Fitting the Decision Tree Regression Model to the dataset\n",
    "# Create the Decision Tree regressor object here\n",
    "from sklearn.tree import DecisionTreeRegressor\n",
    "#DecisionTreeRegressor class has many parameters. Input only #random_state=0 or 42.\n",
    "regressor2 = DecisionTreeRegressor(random_state=0)\n",
    "#Fit the regressor object to the dataset.\n",
    "regressor2.fit(X2,y2)\n",
    "#school-market\n",
    "y3 = work_df.iloc[:, 6:7].values\n",
    "# It doesn't need to split the dataset because we have a small dataset\n",
    "#3 Fitting the Decision Tree Regression Model to the dataset\n",
    "# Create the Decision Tree regressor object here\n",
    "from sklearn.tree import DecisionTreeRegressor\n",
    "#DecisionTreeRegressor class has many parameters. Input only #random_state=0 or 42.\n",
    "regressor3 = DecisionTreeRegressor(random_state=0)\n",
    "#Fit the regressor object to the dataset.\n",
    "regressor3.fit(X2,y3)\n",
    "#y_pred = regressor.p\n",
    "\n",
    "plt.plot(X2, regressor.predict(X2), color = 'blue')\n",
    "plt.plot(X2, regressor1.predict(X2), color = 'red')\n",
    "plt.plot(X2, regressor2.predict(X2), color = 'yellow')\n",
    "plt.plot(X2, regressor3.predict(X2), color = 'green')\n",
    "plt.title('healthcare- School to other POIs (Regression Model)')\n",
    "plt.xlabel('School probability')\n",
    "plt.ylabel('Probability of visiting POIs')\n",
    "colors = ['blue', 'red', 'yellow', 'green']\n",
    "\n",
    "\n",
    "handles = [Rectangle((0, 0), 1, 1, color=c, ec=\"k\") for c in colors]\n",
    "labels = [\"School to Home\", \"School to workplace\", \"School to hospital\", \"School to service\"]\n",
    "plt.legend(handles, labels, loc=\"center left\", bbox_to_anchor=(1, 0.5))\n",
    "#plt.legend(loc='center left', bbox_to_anchor=(1, 0.5))\n",
    "plt.show()"
   ]
  },
  {
   "cell_type": "code",
   "execution_count": 22,
   "metadata": {},
   "outputs": [
    {
     "data": {
      "image/png": "[encoded data removed]",
      "text/plain": [
       "<Figure size 432x288 with 1 Axes>"
      ]
     },
     "metadata": {
      "needs_background": "light"
     },
     "output_type": "display_data"
    }
   ],
   "source": [
    "\n",
    "hosp_df = health_df.sort_values(\"hospital\")\n",
    "#school-home\n",
    "X2 = hosp_df.iloc[:, 5:6].values\n",
    "y = hosp_df.iloc[:, 2:3].values\n",
    "# It doesn't need to split the dataset because we have a small dataset\n",
    "#3 Fitting the Decision Tree Regression Model to the dataset\n",
    "# Create the Decision Tree regressor object here\n",
    "from sklearn.tree import DecisionTreeRegressor\n",
    "#DecisionTreeRegressor class has many parameters. Input only #random_state=0 or 42.\n",
    "regressor = DecisionTreeRegressor(random_state=0)\n",
    "#Fit the regressor object to the dataset.\n",
    "regressor.fit(X2,y)\n",
    "#hosp-work\n",
    "y1 = hosp_df.iloc[:, 3:4].values\n",
    "# It doesn't need to split the dataset because we have a small dataset\n",
    "#3 Fitting the Decision Tree Regression Model to the dataset\n",
    "# Create the Decision Tree regressor object here\n",
    "from sklearn.tree import DecisionTreeRegressor\n",
    "#DecisionTreeRegressor class has many parameters. Input only #random_state=0 or 42.\n",
    "regressor1 = DecisionTreeRegressor(random_state=0)\n",
    "#Fit the regressor object to the dataset.\n",
    "regressor1.fit(X2,y1)\n",
    "#school-hospital\n",
    "y2 = school_df.iloc[:, 4:5].values\n",
    "# It doesn't need to split the dataset because we have a small dataset\n",
    "#3 Fitting the Decision Tree Regression Model to the dataset\n",
    "# Create the Decision Tree regressor object here\n",
    "from sklearn.tree import DecisionTreeRegressor\n",
    "#DecisionTreeRegressor class has many parameters. Input only #random_state=0 or 42.\n",
    "regressor2 = DecisionTreeRegressor(random_state=0)\n",
    "#Fit the regressor object to the dataset.\n",
    "regressor2.fit(X2,y2)\n",
    "#school-market\n",
    "y3 = work_df.iloc[:, 6:7].values\n",
    "# It doesn't need to split the dataset because we have a small dataset\n",
    "#3 Fitting the Decision Tree Regression Model to the dataset\n",
    "# Create the Decision Tree regressor object here\n",
    "from sklearn.tree import DecisionTreeRegressor\n",
    "#DecisionTreeRegressor class has many parameters. Input only #random_state=0 or 42.\n",
    "regressor3 = DecisionTreeRegressor(random_state=0)\n",
    "#Fit the regressor object to the dataset.\n",
    "regressor3.fit(X2,y3)\n",
    "#y_pred = regressor.p\n",
    "\n",
    "plt.plot(X2, regressor.predict(X2), color = 'blue')\n",
    "plt.plot(X2, regressor1.predict(X2), color = 'red')\n",
    "plt.plot(X2, regressor2.predict(X2), color = 'yellow')\n",
    "plt.plot(X2, regressor3.predict(X2), color = 'green')\n",
    "plt.title('Healthcare- Hospital to other POIs (Regression Model)')\n",
    "plt.xlabel('Hospital probability')\n",
    "plt.ylabel('Probability of visiting POIs')\n",
    "colors = ['blue', 'red', 'yellow', 'green']\n",
    "\n",
    "\n",
    "handles = [Rectangle((0, 0), 1, 1, color=c, ec=\"k\") for c in colors]\n",
    "labels = [\"Hospital to Home\", \"Hospital to workplace\", \"Hospital to School\", \"Hospital to service\"]\n",
    "plt.legend(handles, labels, loc=\"center left\", bbox_to_anchor=(1, 0.5))\n",
    "#plt.legend(loc='center left', bbox_to_anchor=(1, 0.5))\n",
    "plt.show()"
   ]
  },
  {
   "cell_type": "code",
   "execution_count": 23,
   "metadata": {},
   "outputs": [
    {
     "data": {
      "image/png": "[encoded data removed]",
      "text/plain": [
       "<Figure size 432x288 with 1 Axes>"
      ]
     },
     "metadata": {
      "needs_background": "light"
     },
     "output_type": "display_data"
    }
   ],
   "source": [
    "\n",
    "market_df = health_df.sort_values(\"supermarket\")\n",
    "#market-home\n",
    "X2 = market_df.iloc[:, 6:7].values\n",
    "y = market_df.iloc[:, 2:3].values\n",
    "# It doesn't need to split the dataset because we have a small dataset\n",
    "#3 Fitting the Decision Tree Regression Model to the dataset\n",
    "# Create the Decision Tree regressor object here\n",
    "from sklearn.tree import DecisionTreeRegressor\n",
    "#DecisionTreeRegressor class has many parameters. Input only #random_state=0 or 42.\n",
    "regressor = DecisionTreeRegressor(random_state=0)\n",
    "#Fit the regressor object to the dataset.\n",
    "regressor.fit(X2,y)\n",
    "#market-work\n",
    "y1 = market_df.iloc[:, 3:4].values\n",
    "# It doesn't need to split the dataset because we have a small dataset\n",
    "#3 Fitting the Decision Tree Regression Model to the dataset\n",
    "# Create the Decision Tree regressor object here\n",
    "from sklearn.tree import DecisionTreeRegressor\n",
    "#DecisionTreeRegressor class has many parameters. Input only #random_state=0 or 42.\n",
    "regressor1 = DecisionTreeRegressor(random_state=0)\n",
    "#Fit the regressor object to the dataset.\n",
    "regressor1.fit(X2,y1)\n",
    "#market-school\n",
    "y2 = market_df.iloc[:, 4:5].values\n",
    "# It doesn't need to split the dataset because we have a small dataset\n",
    "#3 Fitting the Decision Tree Regression Model to the dataset\n",
    "# Create the Decision Tree regressor object here\n",
    "from sklearn.tree import DecisionTreeRegressor\n",
    "#DecisionTreeRegressor class has many parameters. Input only #random_state=0 or 42.\n",
    "regressor2 = DecisionTreeRegressor(random_state=0)\n",
    "#Fit the regressor object to the dataset.\n",
    "regressor2.fit(X2,y2)\n",
    "#market-hosptial\n",
    "y3 = market_df.iloc[:, 5:6].values\n",
    "# It doesn't need to split the dataset because we have a small dataset\n",
    "#3 Fitting the Decision Tree Regression Model to the dataset\n",
    "# Create the Decision Tree regressor object here\n",
    "from sklearn.tree import DecisionTreeRegressor\n",
    "#DecisionTreeRegressor class has many parameters. Input only #random_state=0 or 42.\n",
    "regressor3 = DecisionTreeRegressor(random_state=0)\n",
    "#Fit the regressor object to the dataset.\n",
    "regressor3.fit(X2,y3)\n",
    "#y_pred = regressor.p\n",
    "\n",
    "plt.plot(X2, regressor.predict(X2), color = 'blue')\n",
    "plt.plot(X2, regressor1.predict(X2), color = 'red')\n",
    "plt.plot(X2, regressor2.predict(X2), color = 'yellow')\n",
    "plt.plot(X2, regressor3.predict(X2), color = 'green')\n",
    "plt.title('Healthcare- Service to other POIs (Regression Model)')\n",
    "plt.xlabel('Service probability')\n",
    "plt.ylabel('Probability of visiting POIs')\n",
    "colors = ['blue', 'red', 'yellow', 'green']\n",
    "\n",
    "\n",
    "handles = [Rectangle((0, 0), 1, 1, color=c, ec=\"k\") for c in colors]\n",
    "labels = [\"Service to Home\", \"Service to workplace\", \"Service to School\", \"Service to Hospital\"]\n",
    "plt.legend(handles, labels, loc=\"center left\", bbox_to_anchor=(1, 0.5))\n",
    "#plt.legend(loc='center left', bbox_to_anchor=(1, 0.5))\n",
    "plt.show()"
   ]
  },
  {
   "cell_type": "code",
   "execution_count": null,
   "metadata": {},
   "outputs": [],
   "source": []
  },
  {
   "cell_type": "code",
   "execution_count": null,
   "metadata": {},
   "outputs": [],
   "source": []
  },
  {
   "cell_type": "code",
   "execution_count": null,
   "metadata": {},
   "outputs": [],
   "source": []
  }
 ],
 "metadata": {
  "kernelspec": {
   "display_name": "Python 3",
   "language": "python",
   "name": "python3"
  },
  "language_info": {
   "codemirror_mode": {
    "name": "ipython",
    "version": 3
   },
   "file_extension": ".py",
   "mimetype": "text/x-python",
   "name": "python",
   "nbconvert_exporter": "python",
   "pygments_lexer": "ipython3",
   "version": "3.7.6"
  }
 },
 "nbformat": 4,
 "nbformat_minor": 5
}

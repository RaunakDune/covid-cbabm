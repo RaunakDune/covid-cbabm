{
 "cells": [
  {
   "cell_type": "code",
   "execution_count": 1,
   "id": "22fb46c1",
   "metadata": {},
   "outputs": [],
   "source": [
    "import pandas as pd\n",
    "import numpy as np\n",
    "import matplotlib.pyplot as plt"
   ]
  },
  {
   "cell_type": "code",
   "execution_count": 270,
   "id": "27650802",
   "metadata": {},
   "outputs": [
    {
     "data": {
      "text/html": [
       "<div>\n",
       "<style scoped>\n",
       "    .dataframe tbody tr th:only-of-type {\n",
       "        vertical-align: middle;\n",
       "    }\n",
       "\n",
       "    .dataframe tbody tr th {\n",
       "        vertical-align: top;\n",
       "    }\n",
       "\n",
       "    .dataframe thead th {\n",
       "        text-align: right;\n",
       "    }\n",
       "</style>\n",
       "<table border=\"1\" class=\"dataframe\">\n",
       "  <thead>\n",
       "    <tr style=\"text-align: right;\">\n",
       "      <th></th>\n",
       "      <th>Unnamed: 0</th>\n",
       "      <th>day</th>\n",
       "      <th>s</th>\n",
       "      <th>e</th>\n",
       "      <th>i</th>\n",
       "      <th>h</th>\n",
       "      <th>r</th>\n",
       "      <th>d</th>\n",
       "      <th>v</th>\n",
       "    </tr>\n",
       "  </thead>\n",
       "  <tbody>\n",
       "    <tr>\n",
       "      <th>0</th>\n",
       "      <td>0</td>\n",
       "      <td>1.0</td>\n",
       "      <td>5387</td>\n",
       "      <td>116</td>\n",
       "      <td>506</td>\n",
       "      <td>0</td>\n",
       "      <td>0</td>\n",
       "      <td>0</td>\n",
       "      <td>3991</td>\n",
       "    </tr>\n",
       "    <tr>\n",
       "      <th>1</th>\n",
       "      <td>1</td>\n",
       "      <td>2.0</td>\n",
       "      <td>5061</td>\n",
       "      <td>199</td>\n",
       "      <td>506</td>\n",
       "      <td>0</td>\n",
       "      <td>0</td>\n",
       "      <td>0</td>\n",
       "      <td>4234</td>\n",
       "    </tr>\n",
       "    <tr>\n",
       "      <th>2</th>\n",
       "      <td>2</td>\n",
       "      <td>3.0</td>\n",
       "      <td>4767</td>\n",
       "      <td>269</td>\n",
       "      <td>507</td>\n",
       "      <td>0</td>\n",
       "      <td>0</td>\n",
       "      <td>0</td>\n",
       "      <td>4457</td>\n",
       "    </tr>\n",
       "    <tr>\n",
       "      <th>3</th>\n",
       "      <td>3</td>\n",
       "      <td>4.0</td>\n",
       "      <td>4479</td>\n",
       "      <td>331</td>\n",
       "      <td>507</td>\n",
       "      <td>0</td>\n",
       "      <td>0</td>\n",
       "      <td>0</td>\n",
       "      <td>4683</td>\n",
       "    </tr>\n",
       "    <tr>\n",
       "      <th>4</th>\n",
       "      <td>4</td>\n",
       "      <td>5.0</td>\n",
       "      <td>4242</td>\n",
       "      <td>386</td>\n",
       "      <td>507</td>\n",
       "      <td>0</td>\n",
       "      <td>0</td>\n",
       "      <td>0</td>\n",
       "      <td>4865</td>\n",
       "    </tr>\n",
       "    <tr>\n",
       "      <th>5</th>\n",
       "      <td>5</td>\n",
       "      <td>6.0</td>\n",
       "      <td>4016</td>\n",
       "      <td>431</td>\n",
       "      <td>507</td>\n",
       "      <td>0</td>\n",
       "      <td>0</td>\n",
       "      <td>0</td>\n",
       "      <td>5046</td>\n",
       "    </tr>\n",
       "    <tr>\n",
       "      <th>6</th>\n",
       "      <td>6</td>\n",
       "      <td>7.0</td>\n",
       "      <td>3802</td>\n",
       "      <td>473</td>\n",
       "      <td>509</td>\n",
       "      <td>0</td>\n",
       "      <td>0</td>\n",
       "      <td>0</td>\n",
       "      <td>5216</td>\n",
       "    </tr>\n",
       "    <tr>\n",
       "      <th>7</th>\n",
       "      <td>7</td>\n",
       "      <td>8.0</td>\n",
       "      <td>3580</td>\n",
       "      <td>503</td>\n",
       "      <td>510</td>\n",
       "      <td>0</td>\n",
       "      <td>0</td>\n",
       "      <td>0</td>\n",
       "      <td>5407</td>\n",
       "    </tr>\n",
       "    <tr>\n",
       "      <th>8</th>\n",
       "      <td>8</td>\n",
       "      <td>9.0</td>\n",
       "      <td>3380</td>\n",
       "      <td>542</td>\n",
       "      <td>510</td>\n",
       "      <td>0</td>\n",
       "      <td>0</td>\n",
       "      <td>0</td>\n",
       "      <td>5568</td>\n",
       "    </tr>\n",
       "    <tr>\n",
       "      <th>9</th>\n",
       "      <td>9</td>\n",
       "      <td>10.0</td>\n",
       "      <td>3207</td>\n",
       "      <td>566</td>\n",
       "      <td>510</td>\n",
       "      <td>0</td>\n",
       "      <td>0</td>\n",
       "      <td>0</td>\n",
       "      <td>5717</td>\n",
       "    </tr>\n",
       "    <tr>\n",
       "      <th>10</th>\n",
       "      <td>10</td>\n",
       "      <td>11.0</td>\n",
       "      <td>3037</td>\n",
       "      <td>589</td>\n",
       "      <td>510</td>\n",
       "      <td>0</td>\n",
       "      <td>0</td>\n",
       "      <td>0</td>\n",
       "      <td>5864</td>\n",
       "    </tr>\n",
       "    <tr>\n",
       "      <th>11</th>\n",
       "      <td>11</td>\n",
       "      <td>12.0</td>\n",
       "      <td>2871</td>\n",
       "      <td>604</td>\n",
       "      <td>509</td>\n",
       "      <td>1</td>\n",
       "      <td>0</td>\n",
       "      <td>0</td>\n",
       "      <td>6015</td>\n",
       "    </tr>\n",
       "    <tr>\n",
       "      <th>12</th>\n",
       "      <td>12</td>\n",
       "      <td>13.0</td>\n",
       "      <td>2730</td>\n",
       "      <td>620</td>\n",
       "      <td>510</td>\n",
       "      <td>0</td>\n",
       "      <td>0</td>\n",
       "      <td>1</td>\n",
       "      <td>6139</td>\n",
       "    </tr>\n",
       "    <tr>\n",
       "      <th>13</th>\n",
       "      <td>13</td>\n",
       "      <td>14.0</td>\n",
       "      <td>2579</td>\n",
       "      <td>640</td>\n",
       "      <td>508</td>\n",
       "      <td>0</td>\n",
       "      <td>0</td>\n",
       "      <td>3</td>\n",
       "      <td>6270</td>\n",
       "    </tr>\n",
       "    <tr>\n",
       "      <th>14</th>\n",
       "      <td>14</td>\n",
       "      <td>15.0</td>\n",
       "      <td>2463</td>\n",
       "      <td>644</td>\n",
       "      <td>508</td>\n",
       "      <td>0</td>\n",
       "      <td>0</td>\n",
       "      <td>6</td>\n",
       "      <td>6379</td>\n",
       "    </tr>\n",
       "    <tr>\n",
       "      <th>15</th>\n",
       "      <td>15</td>\n",
       "      <td>16.0</td>\n",
       "      <td>2334</td>\n",
       "      <td>652</td>\n",
       "      <td>507</td>\n",
       "      <td>0</td>\n",
       "      <td>0</td>\n",
       "      <td>8</td>\n",
       "      <td>6499</td>\n",
       "    </tr>\n",
       "    <tr>\n",
       "      <th>16</th>\n",
       "      <td>16</td>\n",
       "      <td>17.0</td>\n",
       "      <td>2230</td>\n",
       "      <td>655</td>\n",
       "      <td>507</td>\n",
       "      <td>0</td>\n",
       "      <td>0</td>\n",
       "      <td>9</td>\n",
       "      <td>6599</td>\n",
       "    </tr>\n",
       "    <tr>\n",
       "      <th>17</th>\n",
       "      <td>17</td>\n",
       "      <td>18.0</td>\n",
       "      <td>2139</td>\n",
       "      <td>658</td>\n",
       "      <td>508</td>\n",
       "      <td>0</td>\n",
       "      <td>0</td>\n",
       "      <td>10</td>\n",
       "      <td>6685</td>\n",
       "    </tr>\n",
       "    <tr>\n",
       "      <th>18</th>\n",
       "      <td>18</td>\n",
       "      <td>19.0</td>\n",
       "      <td>2038</td>\n",
       "      <td>660</td>\n",
       "      <td>507</td>\n",
       "      <td>0</td>\n",
       "      <td>0</td>\n",
       "      <td>12</td>\n",
       "      <td>6783</td>\n",
       "    </tr>\n",
       "    <tr>\n",
       "      <th>19</th>\n",
       "      <td>19</td>\n",
       "      <td>20.0</td>\n",
       "      <td>1935</td>\n",
       "      <td>665</td>\n",
       "      <td>506</td>\n",
       "      <td>0</td>\n",
       "      <td>0</td>\n",
       "      <td>15</td>\n",
       "      <td>6879</td>\n",
       "    </tr>\n",
       "    <tr>\n",
       "      <th>20</th>\n",
       "      <td>20</td>\n",
       "      <td>21.0</td>\n",
       "      <td>1836</td>\n",
       "      <td>675</td>\n",
       "      <td>501</td>\n",
       "      <td>0</td>\n",
       "      <td>0</td>\n",
       "      <td>20</td>\n",
       "      <td>6968</td>\n",
       "    </tr>\n",
       "    <tr>\n",
       "      <th>21</th>\n",
       "      <td>21</td>\n",
       "      <td>22.0</td>\n",
       "      <td>1730</td>\n",
       "      <td>677</td>\n",
       "      <td>495</td>\n",
       "      <td>0</td>\n",
       "      <td>0</td>\n",
       "      <td>26</td>\n",
       "      <td>7072</td>\n",
       "    </tr>\n",
       "    <tr>\n",
       "      <th>22</th>\n",
       "      <td>22</td>\n",
       "      <td>23.0</td>\n",
       "      <td>1654</td>\n",
       "      <td>680</td>\n",
       "      <td>491</td>\n",
       "      <td>0</td>\n",
       "      <td>0</td>\n",
       "      <td>30</td>\n",
       "      <td>7145</td>\n",
       "    </tr>\n",
       "    <tr>\n",
       "      <th>23</th>\n",
       "      <td>23</td>\n",
       "      <td>24.0</td>\n",
       "      <td>1582</td>\n",
       "      <td>684</td>\n",
       "      <td>488</td>\n",
       "      <td>0</td>\n",
       "      <td>0</td>\n",
       "      <td>34</td>\n",
       "      <td>7212</td>\n",
       "    </tr>\n",
       "    <tr>\n",
       "      <th>24</th>\n",
       "      <td>24</td>\n",
       "      <td>25.0</td>\n",
       "      <td>1502</td>\n",
       "      <td>687</td>\n",
       "      <td>486</td>\n",
       "      <td>0</td>\n",
       "      <td>0</td>\n",
       "      <td>37</td>\n",
       "      <td>7288</td>\n",
       "    </tr>\n",
       "    <tr>\n",
       "      <th>25</th>\n",
       "      <td>25</td>\n",
       "      <td>26.0</td>\n",
       "      <td>1426</td>\n",
       "      <td>690</td>\n",
       "      <td>482</td>\n",
       "      <td>0</td>\n",
       "      <td>0</td>\n",
       "      <td>41</td>\n",
       "      <td>7361</td>\n",
       "    </tr>\n",
       "    <tr>\n",
       "      <th>26</th>\n",
       "      <td>26</td>\n",
       "      <td>27.0</td>\n",
       "      <td>1352</td>\n",
       "      <td>693</td>\n",
       "      <td>482</td>\n",
       "      <td>0</td>\n",
       "      <td>0</td>\n",
       "      <td>42</td>\n",
       "      <td>7431</td>\n",
       "    </tr>\n",
       "    <tr>\n",
       "      <th>27</th>\n",
       "      <td>27</td>\n",
       "      <td>28.0</td>\n",
       "      <td>1292</td>\n",
       "      <td>694</td>\n",
       "      <td>480</td>\n",
       "      <td>0</td>\n",
       "      <td>0</td>\n",
       "      <td>45</td>\n",
       "      <td>7489</td>\n",
       "    </tr>\n",
       "    <tr>\n",
       "      <th>28</th>\n",
       "      <td>28</td>\n",
       "      <td>29.0</td>\n",
       "      <td>1234</td>\n",
       "      <td>696</td>\n",
       "      <td>476</td>\n",
       "      <td>0</td>\n",
       "      <td>0</td>\n",
       "      <td>50</td>\n",
       "      <td>7544</td>\n",
       "    </tr>\n",
       "    <tr>\n",
       "      <th>29</th>\n",
       "      <td>29</td>\n",
       "      <td>30.0</td>\n",
       "      <td>1182</td>\n",
       "      <td>697</td>\n",
       "      <td>471</td>\n",
       "      <td>0</td>\n",
       "      <td>0</td>\n",
       "      <td>56</td>\n",
       "      <td>7594</td>\n",
       "    </tr>\n",
       "  </tbody>\n",
       "</table>\n",
       "</div>"
      ],
      "text/plain": [
       "    Unnamed: 0   day     s    e    i  h  r   d     v\n",
       "0            0   1.0  5387  116  506  0  0   0  3991\n",
       "1            1   2.0  5061  199  506  0  0   0  4234\n",
       "2            2   3.0  4767  269  507  0  0   0  4457\n",
       "3            3   4.0  4479  331  507  0  0   0  4683\n",
       "4            4   5.0  4242  386  507  0  0   0  4865\n",
       "5            5   6.0  4016  431  507  0  0   0  5046\n",
       "6            6   7.0  3802  473  509  0  0   0  5216\n",
       "7            7   8.0  3580  503  510  0  0   0  5407\n",
       "8            8   9.0  3380  542  510  0  0   0  5568\n",
       "9            9  10.0  3207  566  510  0  0   0  5717\n",
       "10          10  11.0  3037  589  510  0  0   0  5864\n",
       "11          11  12.0  2871  604  509  1  0   0  6015\n",
       "12          12  13.0  2730  620  510  0  0   1  6139\n",
       "13          13  14.0  2579  640  508  0  0   3  6270\n",
       "14          14  15.0  2463  644  508  0  0   6  6379\n",
       "15          15  16.0  2334  652  507  0  0   8  6499\n",
       "16          16  17.0  2230  655  507  0  0   9  6599\n",
       "17          17  18.0  2139  658  508  0  0  10  6685\n",
       "18          18  19.0  2038  660  507  0  0  12  6783\n",
       "19          19  20.0  1935  665  506  0  0  15  6879\n",
       "20          20  21.0  1836  675  501  0  0  20  6968\n",
       "21          21  22.0  1730  677  495  0  0  26  7072\n",
       "22          22  23.0  1654  680  491  0  0  30  7145\n",
       "23          23  24.0  1582  684  488  0  0  34  7212\n",
       "24          24  25.0  1502  687  486  0  0  37  7288\n",
       "25          25  26.0  1426  690  482  0  0  41  7361\n",
       "26          26  27.0  1352  693  482  0  0  42  7431\n",
       "27          27  28.0  1292  694  480  0  0  45  7489\n",
       "28          28  29.0  1234  696  476  0  0  50  7544\n",
       "29          29  30.0  1182  697  471  0  0  56  7594"
      ]
     },
     "execution_count": 270,
     "metadata": {},
     "output_type": "execute_result"
    }
   ],
   "source": [
    "simulate_df = pd.read_csv(\"day_records_1.csv\")\n",
    "dead_simulate_df = simulate_df [\"d\"]\n",
    "infected_simulate_df = simulate_df[\"i\"]+simulate_df[\"h\"]\n",
    "simulate_df"
   ]
  },
  {
   "cell_type": "code",
   "execution_count": 271,
   "id": "149bc37d",
   "metadata": {},
   "outputs": [
    {
     "data": {
      "text/html": [
       "<div>\n",
       "<style scoped>\n",
       "    .dataframe tbody tr th:only-of-type {\n",
       "        vertical-align: middle;\n",
       "    }\n",
       "\n",
       "    .dataframe tbody tr th {\n",
       "        vertical-align: top;\n",
       "    }\n",
       "\n",
       "    .dataframe thead th {\n",
       "        text-align: right;\n",
       "    }\n",
       "</style>\n",
       "<table border=\"1\" class=\"dataframe\">\n",
       "  <thead>\n",
       "    <tr style=\"text-align: right;\">\n",
       "      <th></th>\n",
       "      <th>Unnamed: 0</th>\n",
       "      <th>day</th>\n",
       "      <th>infection_rate</th>\n",
       "      <th>dead_rate</th>\n",
       "    </tr>\n",
       "  </thead>\n",
       "  <tbody>\n",
       "    <tr>\n",
       "      <th>0</th>\n",
       "      <td>0</td>\n",
       "      <td>1.0</td>\n",
       "      <td>0.00060</td>\n",
       "      <td>0.00001</td>\n",
       "    </tr>\n",
       "    <tr>\n",
       "      <th>1</th>\n",
       "      <td>1</td>\n",
       "      <td>2.0</td>\n",
       "      <td>0.00001</td>\n",
       "      <td>0.00001</td>\n",
       "    </tr>\n",
       "    <tr>\n",
       "      <th>2</th>\n",
       "      <td>2</td>\n",
       "      <td>3.0</td>\n",
       "      <td>0.00010</td>\n",
       "      <td>0.00001</td>\n",
       "    </tr>\n",
       "    <tr>\n",
       "      <th>3</th>\n",
       "      <td>3</td>\n",
       "      <td>4.0</td>\n",
       "      <td>0.00001</td>\n",
       "      <td>0.00001</td>\n",
       "    </tr>\n",
       "    <tr>\n",
       "      <th>4</th>\n",
       "      <td>4</td>\n",
       "      <td>5.0</td>\n",
       "      <td>0.00001</td>\n",
       "      <td>0.00001</td>\n",
       "    </tr>\n",
       "    <tr>\n",
       "      <th>5</th>\n",
       "      <td>5</td>\n",
       "      <td>6.0</td>\n",
       "      <td>0.00001</td>\n",
       "      <td>0.00001</td>\n",
       "    </tr>\n",
       "    <tr>\n",
       "      <th>6</th>\n",
       "      <td>6</td>\n",
       "      <td>7.0</td>\n",
       "      <td>0.00020</td>\n",
       "      <td>0.00001</td>\n",
       "    </tr>\n",
       "    <tr>\n",
       "      <th>7</th>\n",
       "      <td>7</td>\n",
       "      <td>8.0</td>\n",
       "      <td>0.00010</td>\n",
       "      <td>0.00001</td>\n",
       "    </tr>\n",
       "    <tr>\n",
       "      <th>8</th>\n",
       "      <td>8</td>\n",
       "      <td>9.0</td>\n",
       "      <td>0.00001</td>\n",
       "      <td>0.00001</td>\n",
       "    </tr>\n",
       "    <tr>\n",
       "      <th>9</th>\n",
       "      <td>9</td>\n",
       "      <td>10.0</td>\n",
       "      <td>0.00001</td>\n",
       "      <td>0.00001</td>\n",
       "    </tr>\n",
       "    <tr>\n",
       "      <th>10</th>\n",
       "      <td>10</td>\n",
       "      <td>11.0</td>\n",
       "      <td>0.00001</td>\n",
       "      <td>0.00001</td>\n",
       "    </tr>\n",
       "    <tr>\n",
       "      <th>11</th>\n",
       "      <td>11</td>\n",
       "      <td>12.0</td>\n",
       "      <td>0.00001</td>\n",
       "      <td>0.00001</td>\n",
       "    </tr>\n",
       "    <tr>\n",
       "      <th>12</th>\n",
       "      <td>12</td>\n",
       "      <td>13.0</td>\n",
       "      <td>0.00010</td>\n",
       "      <td>0.00010</td>\n",
       "    </tr>\n",
       "    <tr>\n",
       "      <th>13</th>\n",
       "      <td>13</td>\n",
       "      <td>14.0</td>\n",
       "      <td>0.00001</td>\n",
       "      <td>0.00020</td>\n",
       "    </tr>\n",
       "    <tr>\n",
       "      <th>14</th>\n",
       "      <td>14</td>\n",
       "      <td>15.0</td>\n",
       "      <td>0.00030</td>\n",
       "      <td>0.00030</td>\n",
       "    </tr>\n",
       "    <tr>\n",
       "      <th>15</th>\n",
       "      <td>15</td>\n",
       "      <td>16.0</td>\n",
       "      <td>0.00010</td>\n",
       "      <td>0.00020</td>\n",
       "    </tr>\n",
       "    <tr>\n",
       "      <th>16</th>\n",
       "      <td>16</td>\n",
       "      <td>17.0</td>\n",
       "      <td>0.00010</td>\n",
       "      <td>0.00010</td>\n",
       "    </tr>\n",
       "    <tr>\n",
       "      <th>17</th>\n",
       "      <td>17</td>\n",
       "      <td>18.0</td>\n",
       "      <td>0.00020</td>\n",
       "      <td>0.00010</td>\n",
       "    </tr>\n",
       "    <tr>\n",
       "      <th>18</th>\n",
       "      <td>18</td>\n",
       "      <td>19.0</td>\n",
       "      <td>0.00010</td>\n",
       "      <td>0.00020</td>\n",
       "    </tr>\n",
       "    <tr>\n",
       "      <th>19</th>\n",
       "      <td>19</td>\n",
       "      <td>20.0</td>\n",
       "      <td>0.00020</td>\n",
       "      <td>0.00030</td>\n",
       "    </tr>\n",
       "    <tr>\n",
       "      <th>20</th>\n",
       "      <td>20</td>\n",
       "      <td>21.0</td>\n",
       "      <td>0.00001</td>\n",
       "      <td>0.00050</td>\n",
       "    </tr>\n",
       "    <tr>\n",
       "      <th>21</th>\n",
       "      <td>21</td>\n",
       "      <td>22.0</td>\n",
       "      <td>0.00001</td>\n",
       "      <td>0.00060</td>\n",
       "    </tr>\n",
       "    <tr>\n",
       "      <th>22</th>\n",
       "      <td>22</td>\n",
       "      <td>23.0</td>\n",
       "      <td>0.00001</td>\n",
       "      <td>0.00040</td>\n",
       "    </tr>\n",
       "    <tr>\n",
       "      <th>23</th>\n",
       "      <td>23</td>\n",
       "      <td>24.0</td>\n",
       "      <td>0.00010</td>\n",
       "      <td>0.00040</td>\n",
       "    </tr>\n",
       "    <tr>\n",
       "      <th>24</th>\n",
       "      <td>24</td>\n",
       "      <td>25.0</td>\n",
       "      <td>0.00010</td>\n",
       "      <td>0.00030</td>\n",
       "    </tr>\n",
       "    <tr>\n",
       "      <th>25</th>\n",
       "      <td>25</td>\n",
       "      <td>26.0</td>\n",
       "      <td>0.00001</td>\n",
       "      <td>0.00040</td>\n",
       "    </tr>\n",
       "    <tr>\n",
       "      <th>26</th>\n",
       "      <td>26</td>\n",
       "      <td>27.0</td>\n",
       "      <td>0.00010</td>\n",
       "      <td>0.00010</td>\n",
       "    </tr>\n",
       "    <tr>\n",
       "      <th>27</th>\n",
       "      <td>27</td>\n",
       "      <td>28.0</td>\n",
       "      <td>0.00010</td>\n",
       "      <td>0.00030</td>\n",
       "    </tr>\n",
       "    <tr>\n",
       "      <th>28</th>\n",
       "      <td>28</td>\n",
       "      <td>29.0</td>\n",
       "      <td>0.00010</td>\n",
       "      <td>0.00050</td>\n",
       "    </tr>\n",
       "    <tr>\n",
       "      <th>29</th>\n",
       "      <td>29</td>\n",
       "      <td>30.0</td>\n",
       "      <td>0.00010</td>\n",
       "      <td>0.00060</td>\n",
       "    </tr>\n",
       "  </tbody>\n",
       "</table>\n",
       "</div>"
      ],
      "text/plain": [
       "    Unnamed: 0   day  infection_rate  dead_rate\n",
       "0            0   1.0         0.00060    0.00001\n",
       "1            1   2.0         0.00001    0.00001\n",
       "2            2   3.0         0.00010    0.00001\n",
       "3            3   4.0         0.00001    0.00001\n",
       "4            4   5.0         0.00001    0.00001\n",
       "5            5   6.0         0.00001    0.00001\n",
       "6            6   7.0         0.00020    0.00001\n",
       "7            7   8.0         0.00010    0.00001\n",
       "8            8   9.0         0.00001    0.00001\n",
       "9            9  10.0         0.00001    0.00001\n",
       "10          10  11.0         0.00001    0.00001\n",
       "11          11  12.0         0.00001    0.00001\n",
       "12          12  13.0         0.00010    0.00010\n",
       "13          13  14.0         0.00001    0.00020\n",
       "14          14  15.0         0.00030    0.00030\n",
       "15          15  16.0         0.00010    0.00020\n",
       "16          16  17.0         0.00010    0.00010\n",
       "17          17  18.0         0.00020    0.00010\n",
       "18          18  19.0         0.00010    0.00020\n",
       "19          19  20.0         0.00020    0.00030\n",
       "20          20  21.0         0.00001    0.00050\n",
       "21          21  22.0         0.00001    0.00060\n",
       "22          22  23.0         0.00001    0.00040\n",
       "23          23  24.0         0.00010    0.00040\n",
       "24          24  25.0         0.00010    0.00030\n",
       "25          25  26.0         0.00001    0.00040\n",
       "26          26  27.0         0.00010    0.00010\n",
       "27          27  28.0         0.00010    0.00030\n",
       "28          28  29.0         0.00010    0.00050\n",
       "29          29  30.0         0.00010    0.00060"
      ]
     },
     "execution_count": 271,
     "metadata": {},
     "output_type": "execute_result"
    }
   ],
   "source": [
    "rates_simulate = pd.read_csv(\"daily_rates.csv\")\n",
    "rates_simulate "
   ]
  },
  {
   "cell_type": "raw",
   "id": "55fea72a",
   "metadata": {},
   "source": [
    "import random\n",
    "for i in range(len(rates_simulate)):\n",
    "    if rates_simulate[\"infection_rate\"][i] == 0.00007:\n",
    "        rates_simulate[\"infection_rate\"][i] *= (random.random()+0.5)"
   ]
  },
  {
   "cell_type": "code",
   "execution_count": 272,
   "id": "e719b653",
   "metadata": {},
   "outputs": [
    {
     "data": {
      "text/html": [
       "<div>\n",
       "<style scoped>\n",
       "    .dataframe tbody tr th:only-of-type {\n",
       "        vertical-align: middle;\n",
       "    }\n",
       "\n",
       "    .dataframe tbody tr th {\n",
       "        vertical-align: top;\n",
       "    }\n",
       "\n",
       "    .dataframe thead th {\n",
       "        text-align: right;\n",
       "    }\n",
       "</style>\n",
       "<table border=\"1\" class=\"dataframe\">\n",
       "  <thead>\n",
       "    <tr style=\"text-align: right;\">\n",
       "      <th></th>\n",
       "      <th>Unnamed: 0</th>\n",
       "      <th>day</th>\n",
       "      <th>infection_rate</th>\n",
       "      <th>dead_rate</th>\n",
       "    </tr>\n",
       "  </thead>\n",
       "  <tbody>\n",
       "    <tr>\n",
       "      <th>0</th>\n",
       "      <td>0</td>\n",
       "      <td>1.0</td>\n",
       "      <td>0.00060</td>\n",
       "      <td>0.00001</td>\n",
       "    </tr>\n",
       "    <tr>\n",
       "      <th>1</th>\n",
       "      <td>1</td>\n",
       "      <td>2.0</td>\n",
       "      <td>0.00001</td>\n",
       "      <td>0.00001</td>\n",
       "    </tr>\n",
       "    <tr>\n",
       "      <th>2</th>\n",
       "      <td>2</td>\n",
       "      <td>3.0</td>\n",
       "      <td>0.00010</td>\n",
       "      <td>0.00001</td>\n",
       "    </tr>\n",
       "    <tr>\n",
       "      <th>3</th>\n",
       "      <td>3</td>\n",
       "      <td>4.0</td>\n",
       "      <td>0.00001</td>\n",
       "      <td>0.00001</td>\n",
       "    </tr>\n",
       "    <tr>\n",
       "      <th>4</th>\n",
       "      <td>4</td>\n",
       "      <td>5.0</td>\n",
       "      <td>0.00001</td>\n",
       "      <td>0.00001</td>\n",
       "    </tr>\n",
       "    <tr>\n",
       "      <th>5</th>\n",
       "      <td>5</td>\n",
       "      <td>6.0</td>\n",
       "      <td>0.00001</td>\n",
       "      <td>0.00001</td>\n",
       "    </tr>\n",
       "    <tr>\n",
       "      <th>6</th>\n",
       "      <td>6</td>\n",
       "      <td>7.0</td>\n",
       "      <td>0.00020</td>\n",
       "      <td>0.00001</td>\n",
       "    </tr>\n",
       "    <tr>\n",
       "      <th>7</th>\n",
       "      <td>7</td>\n",
       "      <td>8.0</td>\n",
       "      <td>0.00010</td>\n",
       "      <td>0.00001</td>\n",
       "    </tr>\n",
       "    <tr>\n",
       "      <th>8</th>\n",
       "      <td>8</td>\n",
       "      <td>9.0</td>\n",
       "      <td>0.00001</td>\n",
       "      <td>0.00001</td>\n",
       "    </tr>\n",
       "    <tr>\n",
       "      <th>9</th>\n",
       "      <td>9</td>\n",
       "      <td>10.0</td>\n",
       "      <td>0.00001</td>\n",
       "      <td>0.00001</td>\n",
       "    </tr>\n",
       "    <tr>\n",
       "      <th>10</th>\n",
       "      <td>10</td>\n",
       "      <td>11.0</td>\n",
       "      <td>0.00001</td>\n",
       "      <td>0.00001</td>\n",
       "    </tr>\n",
       "    <tr>\n",
       "      <th>11</th>\n",
       "      <td>11</td>\n",
       "      <td>12.0</td>\n",
       "      <td>0.00001</td>\n",
       "      <td>0.00001</td>\n",
       "    </tr>\n",
       "    <tr>\n",
       "      <th>12</th>\n",
       "      <td>12</td>\n",
       "      <td>13.0</td>\n",
       "      <td>0.00010</td>\n",
       "      <td>0.00010</td>\n",
       "    </tr>\n",
       "    <tr>\n",
       "      <th>13</th>\n",
       "      <td>13</td>\n",
       "      <td>14.0</td>\n",
       "      <td>0.00001</td>\n",
       "      <td>0.00020</td>\n",
       "    </tr>\n",
       "    <tr>\n",
       "      <th>14</th>\n",
       "      <td>14</td>\n",
       "      <td>15.0</td>\n",
       "      <td>0.00030</td>\n",
       "      <td>0.00030</td>\n",
       "    </tr>\n",
       "    <tr>\n",
       "      <th>15</th>\n",
       "      <td>15</td>\n",
       "      <td>16.0</td>\n",
       "      <td>0.00010</td>\n",
       "      <td>0.00020</td>\n",
       "    </tr>\n",
       "    <tr>\n",
       "      <th>16</th>\n",
       "      <td>16</td>\n",
       "      <td>17.0</td>\n",
       "      <td>0.00010</td>\n",
       "      <td>0.00010</td>\n",
       "    </tr>\n",
       "    <tr>\n",
       "      <th>17</th>\n",
       "      <td>17</td>\n",
       "      <td>18.0</td>\n",
       "      <td>0.00020</td>\n",
       "      <td>0.00010</td>\n",
       "    </tr>\n",
       "    <tr>\n",
       "      <th>18</th>\n",
       "      <td>18</td>\n",
       "      <td>19.0</td>\n",
       "      <td>0.00010</td>\n",
       "      <td>0.00020</td>\n",
       "    </tr>\n",
       "    <tr>\n",
       "      <th>19</th>\n",
       "      <td>19</td>\n",
       "      <td>20.0</td>\n",
       "      <td>0.00020</td>\n",
       "      <td>0.00030</td>\n",
       "    </tr>\n",
       "    <tr>\n",
       "      <th>20</th>\n",
       "      <td>20</td>\n",
       "      <td>21.0</td>\n",
       "      <td>0.00001</td>\n",
       "      <td>0.00050</td>\n",
       "    </tr>\n",
       "    <tr>\n",
       "      <th>21</th>\n",
       "      <td>21</td>\n",
       "      <td>22.0</td>\n",
       "      <td>0.00001</td>\n",
       "      <td>0.00060</td>\n",
       "    </tr>\n",
       "    <tr>\n",
       "      <th>22</th>\n",
       "      <td>22</td>\n",
       "      <td>23.0</td>\n",
       "      <td>0.00001</td>\n",
       "      <td>0.00040</td>\n",
       "    </tr>\n",
       "    <tr>\n",
       "      <th>23</th>\n",
       "      <td>23</td>\n",
       "      <td>24.0</td>\n",
       "      <td>0.00010</td>\n",
       "      <td>0.00040</td>\n",
       "    </tr>\n",
       "    <tr>\n",
       "      <th>24</th>\n",
       "      <td>24</td>\n",
       "      <td>25.0</td>\n",
       "      <td>0.00010</td>\n",
       "      <td>0.00030</td>\n",
       "    </tr>\n",
       "    <tr>\n",
       "      <th>25</th>\n",
       "      <td>25</td>\n",
       "      <td>26.0</td>\n",
       "      <td>0.00001</td>\n",
       "      <td>0.00040</td>\n",
       "    </tr>\n",
       "    <tr>\n",
       "      <th>26</th>\n",
       "      <td>26</td>\n",
       "      <td>27.0</td>\n",
       "      <td>0.00010</td>\n",
       "      <td>0.00010</td>\n",
       "    </tr>\n",
       "    <tr>\n",
       "      <th>27</th>\n",
       "      <td>27</td>\n",
       "      <td>28.0</td>\n",
       "      <td>0.00010</td>\n",
       "      <td>0.00030</td>\n",
       "    </tr>\n",
       "    <tr>\n",
       "      <th>28</th>\n",
       "      <td>28</td>\n",
       "      <td>29.0</td>\n",
       "      <td>0.00010</td>\n",
       "      <td>0.00050</td>\n",
       "    </tr>\n",
       "    <tr>\n",
       "      <th>29</th>\n",
       "      <td>29</td>\n",
       "      <td>30.0</td>\n",
       "      <td>0.00010</td>\n",
       "      <td>0.00060</td>\n",
       "    </tr>\n",
       "  </tbody>\n",
       "</table>\n",
       "</div>"
      ],
      "text/plain": [
       "    Unnamed: 0   day  infection_rate  dead_rate\n",
       "0            0   1.0         0.00060    0.00001\n",
       "1            1   2.0         0.00001    0.00001\n",
       "2            2   3.0         0.00010    0.00001\n",
       "3            3   4.0         0.00001    0.00001\n",
       "4            4   5.0         0.00001    0.00001\n",
       "5            5   6.0         0.00001    0.00001\n",
       "6            6   7.0         0.00020    0.00001\n",
       "7            7   8.0         0.00010    0.00001\n",
       "8            8   9.0         0.00001    0.00001\n",
       "9            9  10.0         0.00001    0.00001\n",
       "10          10  11.0         0.00001    0.00001\n",
       "11          11  12.0         0.00001    0.00001\n",
       "12          12  13.0         0.00010    0.00010\n",
       "13          13  14.0         0.00001    0.00020\n",
       "14          14  15.0         0.00030    0.00030\n",
       "15          15  16.0         0.00010    0.00020\n",
       "16          16  17.0         0.00010    0.00010\n",
       "17          17  18.0         0.00020    0.00010\n",
       "18          18  19.0         0.00010    0.00020\n",
       "19          19  20.0         0.00020    0.00030\n",
       "20          20  21.0         0.00001    0.00050\n",
       "21          21  22.0         0.00001    0.00060\n",
       "22          22  23.0         0.00001    0.00040\n",
       "23          23  24.0         0.00010    0.00040\n",
       "24          24  25.0         0.00010    0.00030\n",
       "25          25  26.0         0.00001    0.00040\n",
       "26          26  27.0         0.00010    0.00010\n",
       "27          27  28.0         0.00010    0.00030\n",
       "28          28  29.0         0.00010    0.00050\n",
       "29          29  30.0         0.00010    0.00060"
      ]
     },
     "execution_count": 272,
     "metadata": {},
     "output_type": "execute_result"
    }
   ],
   "source": [
    "rates_simulate"
   ]
  },
  {
   "cell_type": "code",
   "execution_count": 2,
   "id": "de8d587a",
   "metadata": {},
   "outputs": [
    {
     "ename": "FileNotFoundError",
     "evalue": "[Errno 2] No such file or directory: 'data-by-day.csv'",
     "output_type": "error",
     "traceback": [
      "\u001b[0;31m---------------------------------------------------------------------------\u001b[0m",
      "\u001b[0;31mFileNotFoundError\u001b[0m                         Traceback (most recent call last)",
      "\u001b[0;32m/var/folders/54/q7rzqy794_n1_10_bkdqp42w0000gn/T/ipykernel_2171/3494140595.py\u001b[0m in \u001b[0;36m<module>\u001b[0;34m\u001b[0m\n\u001b[0;32m----> 1\u001b[0;31m \u001b[0mdf\u001b[0m \u001b[0;34m=\u001b[0m \u001b[0mpd\u001b[0m\u001b[0;34m.\u001b[0m\u001b[0mread_csv\u001b[0m\u001b[0;34m(\u001b[0m\u001b[0;34m\"data-by-day.csv\"\u001b[0m\u001b[0;34m)\u001b[0m\u001b[0;34m\u001b[0m\u001b[0;34m\u001b[0m\u001b[0m\n\u001b[0m\u001b[1;32m      2\u001b[0m \u001b[0mdf\u001b[0m\u001b[0;34m\u001b[0m\u001b[0;34m\u001b[0m\u001b[0m\n",
      "\u001b[0;32m~/opt/anaconda3/envs/geomesa/lib/python3.8/site-packages/pandas/io/parsers.py\u001b[0m in \u001b[0;36mread_csv\u001b[0;34m(filepath_or_buffer, sep, delimiter, header, names, index_col, usecols, squeeze, prefix, mangle_dupe_cols, dtype, engine, converters, true_values, false_values, skipinitialspace, skiprows, skipfooter, nrows, na_values, keep_default_na, na_filter, verbose, skip_blank_lines, parse_dates, infer_datetime_format, keep_date_col, date_parser, dayfirst, cache_dates, iterator, chunksize, compression, thousands, decimal, lineterminator, quotechar, quoting, doublequote, escapechar, comment, encoding, dialect, error_bad_lines, warn_bad_lines, delim_whitespace, low_memory, memory_map, float_precision)\u001b[0m\n\u001b[1;32m    684\u001b[0m     )\n\u001b[1;32m    685\u001b[0m \u001b[0;34m\u001b[0m\u001b[0m\n\u001b[0;32m--> 686\u001b[0;31m     \u001b[0;32mreturn\u001b[0m \u001b[0m_read\u001b[0m\u001b[0;34m(\u001b[0m\u001b[0mfilepath_or_buffer\u001b[0m\u001b[0;34m,\u001b[0m \u001b[0mkwds\u001b[0m\u001b[0;34m)\u001b[0m\u001b[0;34m\u001b[0m\u001b[0;34m\u001b[0m\u001b[0m\n\u001b[0m\u001b[1;32m    687\u001b[0m \u001b[0;34m\u001b[0m\u001b[0m\n\u001b[1;32m    688\u001b[0m \u001b[0;34m\u001b[0m\u001b[0m\n",
      "\u001b[0;32m~/opt/anaconda3/envs/geomesa/lib/python3.8/site-packages/pandas/io/parsers.py\u001b[0m in \u001b[0;36m_read\u001b[0;34m(filepath_or_buffer, kwds)\u001b[0m\n\u001b[1;32m    450\u001b[0m \u001b[0;34m\u001b[0m\u001b[0m\n\u001b[1;32m    451\u001b[0m     \u001b[0;31m# Create the parser.\u001b[0m\u001b[0;34m\u001b[0m\u001b[0;34m\u001b[0m\u001b[0;34m\u001b[0m\u001b[0m\n\u001b[0;32m--> 452\u001b[0;31m     \u001b[0mparser\u001b[0m \u001b[0;34m=\u001b[0m \u001b[0mTextFileReader\u001b[0m\u001b[0;34m(\u001b[0m\u001b[0mfp_or_buf\u001b[0m\u001b[0;34m,\u001b[0m \u001b[0;34m**\u001b[0m\u001b[0mkwds\u001b[0m\u001b[0;34m)\u001b[0m\u001b[0;34m\u001b[0m\u001b[0;34m\u001b[0m\u001b[0m\n\u001b[0m\u001b[1;32m    453\u001b[0m \u001b[0;34m\u001b[0m\u001b[0m\n\u001b[1;32m    454\u001b[0m     \u001b[0;32mif\u001b[0m \u001b[0mchunksize\u001b[0m \u001b[0;32mor\u001b[0m \u001b[0miterator\u001b[0m\u001b[0;34m:\u001b[0m\u001b[0;34m\u001b[0m\u001b[0;34m\u001b[0m\u001b[0m\n",
      "\u001b[0;32m~/opt/anaconda3/envs/geomesa/lib/python3.8/site-packages/pandas/io/parsers.py\u001b[0m in \u001b[0;36m__init__\u001b[0;34m(self, f, engine, **kwds)\u001b[0m\n\u001b[1;32m    944\u001b[0m             \u001b[0mself\u001b[0m\u001b[0;34m.\u001b[0m\u001b[0moptions\u001b[0m\u001b[0;34m[\u001b[0m\u001b[0;34m\"has_index_names\"\u001b[0m\u001b[0;34m]\u001b[0m \u001b[0;34m=\u001b[0m \u001b[0mkwds\u001b[0m\u001b[0;34m[\u001b[0m\u001b[0;34m\"has_index_names\"\u001b[0m\u001b[0;34m]\u001b[0m\u001b[0;34m\u001b[0m\u001b[0;34m\u001b[0m\u001b[0m\n\u001b[1;32m    945\u001b[0m \u001b[0;34m\u001b[0m\u001b[0m\n\u001b[0;32m--> 946\u001b[0;31m         \u001b[0mself\u001b[0m\u001b[0;34m.\u001b[0m\u001b[0m_make_engine\u001b[0m\u001b[0;34m(\u001b[0m\u001b[0mself\u001b[0m\u001b[0;34m.\u001b[0m\u001b[0mengine\u001b[0m\u001b[0;34m)\u001b[0m\u001b[0;34m\u001b[0m\u001b[0;34m\u001b[0m\u001b[0m\n\u001b[0m\u001b[1;32m    947\u001b[0m \u001b[0;34m\u001b[0m\u001b[0m\n\u001b[1;32m    948\u001b[0m     \u001b[0;32mdef\u001b[0m \u001b[0mclose\u001b[0m\u001b[0;34m(\u001b[0m\u001b[0mself\u001b[0m\u001b[0;34m)\u001b[0m\u001b[0;34m:\u001b[0m\u001b[0;34m\u001b[0m\u001b[0;34m\u001b[0m\u001b[0m\n",
      "\u001b[0;32m~/opt/anaconda3/envs/geomesa/lib/python3.8/site-packages/pandas/io/parsers.py\u001b[0m in \u001b[0;36m_make_engine\u001b[0;34m(self, engine)\u001b[0m\n\u001b[1;32m   1176\u001b[0m     \u001b[0;32mdef\u001b[0m \u001b[0m_make_engine\u001b[0m\u001b[0;34m(\u001b[0m\u001b[0mself\u001b[0m\u001b[0;34m,\u001b[0m \u001b[0mengine\u001b[0m\u001b[0;34m=\u001b[0m\u001b[0;34m\"c\"\u001b[0m\u001b[0;34m)\u001b[0m\u001b[0;34m:\u001b[0m\u001b[0;34m\u001b[0m\u001b[0;34m\u001b[0m\u001b[0m\n\u001b[1;32m   1177\u001b[0m         \u001b[0;32mif\u001b[0m \u001b[0mengine\u001b[0m \u001b[0;34m==\u001b[0m \u001b[0;34m\"c\"\u001b[0m\u001b[0;34m:\u001b[0m\u001b[0;34m\u001b[0m\u001b[0;34m\u001b[0m\u001b[0m\n\u001b[0;32m-> 1178\u001b[0;31m             \u001b[0mself\u001b[0m\u001b[0;34m.\u001b[0m\u001b[0m_engine\u001b[0m \u001b[0;34m=\u001b[0m \u001b[0mCParserWrapper\u001b[0m\u001b[0;34m(\u001b[0m\u001b[0mself\u001b[0m\u001b[0;34m.\u001b[0m\u001b[0mf\u001b[0m\u001b[0;34m,\u001b[0m \u001b[0;34m**\u001b[0m\u001b[0mself\u001b[0m\u001b[0;34m.\u001b[0m\u001b[0moptions\u001b[0m\u001b[0;34m)\u001b[0m\u001b[0;34m\u001b[0m\u001b[0;34m\u001b[0m\u001b[0m\n\u001b[0m\u001b[1;32m   1179\u001b[0m         \u001b[0;32melse\u001b[0m\u001b[0;34m:\u001b[0m\u001b[0;34m\u001b[0m\u001b[0;34m\u001b[0m\u001b[0m\n\u001b[1;32m   1180\u001b[0m             \u001b[0;32mif\u001b[0m \u001b[0mengine\u001b[0m \u001b[0;34m==\u001b[0m \u001b[0;34m\"python\"\u001b[0m\u001b[0;34m:\u001b[0m\u001b[0;34m\u001b[0m\u001b[0;34m\u001b[0m\u001b[0m\n",
      "\u001b[0;32m~/opt/anaconda3/envs/geomesa/lib/python3.8/site-packages/pandas/io/parsers.py\u001b[0m in \u001b[0;36m__init__\u001b[0;34m(self, src, **kwds)\u001b[0m\n\u001b[1;32m   2006\u001b[0m         \u001b[0mkwds\u001b[0m\u001b[0;34m[\u001b[0m\u001b[0;34m\"usecols\"\u001b[0m\u001b[0;34m]\u001b[0m \u001b[0;34m=\u001b[0m \u001b[0mself\u001b[0m\u001b[0;34m.\u001b[0m\u001b[0musecols\u001b[0m\u001b[0;34m\u001b[0m\u001b[0;34m\u001b[0m\u001b[0m\n\u001b[1;32m   2007\u001b[0m \u001b[0;34m\u001b[0m\u001b[0m\n\u001b[0;32m-> 2008\u001b[0;31m         \u001b[0mself\u001b[0m\u001b[0;34m.\u001b[0m\u001b[0m_reader\u001b[0m \u001b[0;34m=\u001b[0m \u001b[0mparsers\u001b[0m\u001b[0;34m.\u001b[0m\u001b[0mTextReader\u001b[0m\u001b[0;34m(\u001b[0m\u001b[0msrc\u001b[0m\u001b[0;34m,\u001b[0m \u001b[0;34m**\u001b[0m\u001b[0mkwds\u001b[0m\u001b[0;34m)\u001b[0m\u001b[0;34m\u001b[0m\u001b[0;34m\u001b[0m\u001b[0m\n\u001b[0m\u001b[1;32m   2009\u001b[0m         \u001b[0mself\u001b[0m\u001b[0;34m.\u001b[0m\u001b[0munnamed_cols\u001b[0m \u001b[0;34m=\u001b[0m \u001b[0mself\u001b[0m\u001b[0;34m.\u001b[0m\u001b[0m_reader\u001b[0m\u001b[0;34m.\u001b[0m\u001b[0munnamed_cols\u001b[0m\u001b[0;34m\u001b[0m\u001b[0;34m\u001b[0m\u001b[0m\n\u001b[1;32m   2010\u001b[0m \u001b[0;34m\u001b[0m\u001b[0m\n",
      "\u001b[0;32mpandas/_libs/parsers.pyx\u001b[0m in \u001b[0;36mpandas._libs.parsers.TextReader.__cinit__\u001b[0;34m()\u001b[0m\n",
      "\u001b[0;32mpandas/_libs/parsers.pyx\u001b[0m in \u001b[0;36mpandas._libs.parsers.TextReader._setup_parser_source\u001b[0;34m()\u001b[0m\n",
      "\u001b[0;31mFileNotFoundError\u001b[0m: [Errno 2] No such file or directory: 'data-by-day.csv'"
     ]
    }
   ],
   "source": [
    "df = pd.read_csv(\"data-by-day.csv\")\n",
    "df\n"
   ]
  },
  {
   "cell_type": "code",
   "execution_count": 3,
   "id": "019a9cba",
   "metadata": {},
   "outputs": [],
   "source": [
    "df1 = pd.read_csv(\"cases-by-day.csv\")\n",
    "df2 = pd.read_csv(\"deaths-by-day.csv\")"
   ]
  },
  {
   "cell_type": "code",
   "execution_count": 4,
   "id": "e7787a14",
   "metadata": {},
   "outputs": [
    {
     "data": {
      "text/html": [
       "<div>\n",
       "<style scoped>\n",
       "    .dataframe tbody tr th:only-of-type {\n",
       "        vertical-align: middle;\n",
       "    }\n",
       "\n",
       "    .dataframe tbody tr th {\n",
       "        vertical-align: top;\n",
       "    }\n",
       "\n",
       "    .dataframe thead th {\n",
       "        text-align: right;\n",
       "    }\n",
       "</style>\n",
       "<table border=\"1\" class=\"dataframe\">\n",
       "  <thead>\n",
       "    <tr style=\"text-align: right;\">\n",
       "      <th></th>\n",
       "      <th>date_of_interest</th>\n",
       "      <th>DEATH_COUNT</th>\n",
       "      <th>PROBABLE_DEATH_COUNT</th>\n",
       "      <th>DEATH_COUNT_7DAY_AVG</th>\n",
       "      <th>ALL_DEATH_COUNT_7DAY_AVG</th>\n",
       "      <th>BX_DEATH_COUNT</th>\n",
       "      <th>BX_PROBABLE_DEATH_COUNT</th>\n",
       "      <th>BX_DEATH_COUNT_7DAY_AVG</th>\n",
       "      <th>BX_ALL_DEATH_COUNT_7DAY_AVG</th>\n",
       "      <th>BK_DEATH_COUNT</th>\n",
       "      <th>...</th>\n",
       "      <th>MN_ALL_DEATH_COUNT_7DAY_AVG</th>\n",
       "      <th>QN_DEATH_COUNT</th>\n",
       "      <th>QN_PROBABLE_DEATH_COUNT</th>\n",
       "      <th>QN_DEATH_COUNT_7DAY_AVG</th>\n",
       "      <th>QN_ALL_DEATH_COUNT_7DAY_AVG</th>\n",
       "      <th>SI_DEATH_COUNT</th>\n",
       "      <th>SI_PROBABLE_DEATH_COUNT</th>\n",
       "      <th>SI_DEATH_COUNT_7DAY_AVG</th>\n",
       "      <th>SI_ALL_DEATH_COUNT_7DAY_AVG</th>\n",
       "      <th>INCOMPLETE</th>\n",
       "    </tr>\n",
       "  </thead>\n",
       "  <tbody>\n",
       "    <tr>\n",
       "      <th>519</th>\n",
       "      <td>08/01/2021</td>\n",
       "      <td>11</td>\n",
       "      <td>1</td>\n",
       "      <td>6</td>\n",
       "      <td>6</td>\n",
       "      <td>0</td>\n",
       "      <td>0</td>\n",
       "      <td>1</td>\n",
       "      <td>1</td>\n",
       "      <td>2</td>\n",
       "      <td>...</td>\n",
       "      <td>2</td>\n",
       "      <td>5</td>\n",
       "      <td>0</td>\n",
       "      <td>2</td>\n",
       "      <td>2</td>\n",
       "      <td>2</td>\n",
       "      <td>1</td>\n",
       "      <td>1</td>\n",
       "      <td>1</td>\n",
       "      <td>NaN</td>\n",
       "    </tr>\n",
       "  </tbody>\n",
       "</table>\n",
       "<p>1 rows × 26 columns</p>\n",
       "</div>"
      ],
      "text/plain": [
       "    date_of_interest  DEATH_COUNT  PROBABLE_DEATH_COUNT  DEATH_COUNT_7DAY_AVG  \\\n",
       "519       08/01/2021           11                     1                     6   \n",
       "\n",
       "     ALL_DEATH_COUNT_7DAY_AVG  BX_DEATH_COUNT  BX_PROBABLE_DEATH_COUNT  \\\n",
       "519                         6               0                        0   \n",
       "\n",
       "     BX_DEATH_COUNT_7DAY_AVG  BX_ALL_DEATH_COUNT_7DAY_AVG  BK_DEATH_COUNT  \\\n",
       "519                        1                            1               2   \n",
       "\n",
       "     ...  MN_ALL_DEATH_COUNT_7DAY_AVG  QN_DEATH_COUNT  \\\n",
       "519  ...                            2               5   \n",
       "\n",
       "     QN_PROBABLE_DEATH_COUNT  QN_DEATH_COUNT_7DAY_AVG  \\\n",
       "519                        0                        2   \n",
       "\n",
       "     QN_ALL_DEATH_COUNT_7DAY_AVG  SI_DEATH_COUNT  SI_PROBABLE_DEATH_COUNT  \\\n",
       "519                            2               2                        1   \n",
       "\n",
       "     SI_DEATH_COUNT_7DAY_AVG  SI_ALL_DEATH_COUNT_7DAY_AVG  INCOMPLETE  \n",
       "519                        1                            1         NaN  \n",
       "\n",
       "[1 rows x 26 columns]"
      ]
     },
     "execution_count": 4,
     "metadata": {},
     "output_type": "execute_result"
    }
   ],
   "source": [
    "df2[df2[\"date_of_interest\"]== \"08/01/2021\"]"
   ]
  },
  {
   "cell_type": "code",
   "execution_count": 6,
   "id": "243cd160",
   "metadata": {},
   "outputs": [
    {
     "data": {
      "text/html": [
       "<div>\n",
       "<style scoped>\n",
       "    .dataframe tbody tr th:only-of-type {\n",
       "        vertical-align: middle;\n",
       "    }\n",
       "\n",
       "    .dataframe tbody tr th {\n",
       "        vertical-align: top;\n",
       "    }\n",
       "\n",
       "    .dataframe thead th {\n",
       "        text-align: right;\n",
       "    }\n",
       "</style>\n",
       "<table border=\"1\" class=\"dataframe\">\n",
       "  <thead>\n",
       "    <tr style=\"text-align: right;\">\n",
       "      <th></th>\n",
       "      <th>date_of_interest</th>\n",
       "      <th>CASE_COUNT</th>\n",
       "      <th>PROBABLE_CASE_COUNT</th>\n",
       "      <th>CASE_COUNT_7DAY_AVG</th>\n",
       "      <th>ALL_CASE_COUNT_7DAY_AVG</th>\n",
       "      <th>BX_CASE_COUNT</th>\n",
       "      <th>BX_PROBABLE_CASE_COUNT</th>\n",
       "      <th>BX_CASE_COUNT_7DAY_AVG</th>\n",
       "      <th>BX_ALL_CASE_COUNT_7DAY_AVG</th>\n",
       "      <th>BK_CASE_COUNT</th>\n",
       "      <th>...</th>\n",
       "      <th>MN_ALL_CASE_COUNT_7DAY_AVG</th>\n",
       "      <th>QN_CASE_COUNT</th>\n",
       "      <th>QN_PROBABLE_CASE_COUNT</th>\n",
       "      <th>QN_CASE_COUNT_7DAY_AVG</th>\n",
       "      <th>QN_ALL_CASE_COUNT_7DAY_AVG</th>\n",
       "      <th>SI_CASE_COUNT</th>\n",
       "      <th>SI_PROBABLE_CASE_COUNT</th>\n",
       "      <th>SI_CASE_COUNT_7DAY_AVG</th>\n",
       "      <th>SI_ALL_CASE_COUNT_7DAY_AVG</th>\n",
       "      <th>INCOMPLETE</th>\n",
       "    </tr>\n",
       "  </thead>\n",
       "  <tbody>\n",
       "    <tr>\n",
       "      <th>548</th>\n",
       "      <td>08/30/2021</td>\n",
       "      <td>1837</td>\n",
       "      <td>443</td>\n",
       "      <td>1504</td>\n",
       "      <td>1888</td>\n",
       "      <td>304</td>\n",
       "      <td>90</td>\n",
       "      <td>242</td>\n",
       "      <td>316</td>\n",
       "      <td>583</td>\n",
       "      <td>...</td>\n",
       "      <td>367</td>\n",
       "      <td>392</td>\n",
       "      <td>85</td>\n",
       "      <td>347</td>\n",
       "      <td>429</td>\n",
       "      <td>182</td>\n",
       "      <td>39</td>\n",
       "      <td>144</td>\n",
       "      <td>172</td>\n",
       "      <td>0</td>\n",
       "    </tr>\n",
       "  </tbody>\n",
       "</table>\n",
       "<p>1 rows × 26 columns</p>\n",
       "</div>"
      ],
      "text/plain": [
       "    date_of_interest  CASE_COUNT  PROBABLE_CASE_COUNT  CASE_COUNT_7DAY_AVG  \\\n",
       "548       08/30/2021        1837                  443                 1504   \n",
       "\n",
       "     ALL_CASE_COUNT_7DAY_AVG  BX_CASE_COUNT  BX_PROBABLE_CASE_COUNT  \\\n",
       "548                     1888            304                      90   \n",
       "\n",
       "     BX_CASE_COUNT_7DAY_AVG  BX_ALL_CASE_COUNT_7DAY_AVG  BK_CASE_COUNT  ...  \\\n",
       "548                     242                         316            583  ...   \n",
       "\n",
       "     MN_ALL_CASE_COUNT_7DAY_AVG  QN_CASE_COUNT  QN_PROBABLE_CASE_COUNT  \\\n",
       "548                         367            392                      85   \n",
       "\n",
       "     QN_CASE_COUNT_7DAY_AVG  QN_ALL_CASE_COUNT_7DAY_AVG  SI_CASE_COUNT  \\\n",
       "548                     347                         429            182   \n",
       "\n",
       "     SI_PROBABLE_CASE_COUNT  SI_CASE_COUNT_7DAY_AVG  \\\n",
       "548                      39                     144   \n",
       "\n",
       "     SI_ALL_CASE_COUNT_7DAY_AVG  INCOMPLETE  \n",
       "548                         172           0  \n",
       "\n",
       "[1 rows x 26 columns]"
      ]
     },
     "execution_count": 6,
     "metadata": {},
     "output_type": "execute_result"
    }
   ],
   "source": [
    "df1[df1[\"date_of_interest\"]== \"08/30/2021\"]"
   ]
  },
  {
   "cell_type": "code",
   "execution_count": 7,
   "id": "220c7a14",
   "metadata": {},
   "outputs": [
    {
     "data": {
      "text/html": [
       "<div>\n",
       "<style scoped>\n",
       "    .dataframe tbody tr th:only-of-type {\n",
       "        vertical-align: middle;\n",
       "    }\n",
       "\n",
       "    .dataframe tbody tr th {\n",
       "        vertical-align: top;\n",
       "    }\n",
       "\n",
       "    .dataframe thead th {\n",
       "        text-align: right;\n",
       "    }\n",
       "</style>\n",
       "<table border=\"1\" class=\"dataframe\">\n",
       "  <thead>\n",
       "    <tr style=\"text-align: right;\">\n",
       "      <th></th>\n",
       "      <th>date_of_interest</th>\n",
       "      <th>DEATH_COUNT</th>\n",
       "      <th>PROBABLE_DEATH_COUNT</th>\n",
       "      <th>DEATH_COUNT_7DAY_AVG</th>\n",
       "      <th>ALL_DEATH_COUNT_7DAY_AVG</th>\n",
       "      <th>BX_DEATH_COUNT</th>\n",
       "      <th>BX_PROBABLE_DEATH_COUNT</th>\n",
       "      <th>BX_DEATH_COUNT_7DAY_AVG</th>\n",
       "      <th>BX_ALL_DEATH_COUNT_7DAY_AVG</th>\n",
       "      <th>BK_DEATH_COUNT</th>\n",
       "      <th>...</th>\n",
       "      <th>MN_ALL_DEATH_COUNT_7DAY_AVG</th>\n",
       "      <th>QN_DEATH_COUNT</th>\n",
       "      <th>QN_PROBABLE_DEATH_COUNT</th>\n",
       "      <th>QN_DEATH_COUNT_7DAY_AVG</th>\n",
       "      <th>QN_ALL_DEATH_COUNT_7DAY_AVG</th>\n",
       "      <th>SI_DEATH_COUNT</th>\n",
       "      <th>SI_PROBABLE_DEATH_COUNT</th>\n",
       "      <th>SI_DEATH_COUNT_7DAY_AVG</th>\n",
       "      <th>SI_ALL_DEATH_COUNT_7DAY_AVG</th>\n",
       "      <th>INCOMPLETE</th>\n",
       "    </tr>\n",
       "  </thead>\n",
       "  <tbody>\n",
       "    <tr>\n",
       "      <th>548</th>\n",
       "      <td>08/30/2021</td>\n",
       "      <td>13</td>\n",
       "      <td>1</td>\n",
       "      <td>12</td>\n",
       "      <td>12</td>\n",
       "      <td>1</td>\n",
       "      <td>0</td>\n",
       "      <td>2</td>\n",
       "      <td>2</td>\n",
       "      <td>4</td>\n",
       "      <td>...</td>\n",
       "      <td>1</td>\n",
       "      <td>6</td>\n",
       "      <td>0</td>\n",
       "      <td>3</td>\n",
       "      <td>3</td>\n",
       "      <td>1</td>\n",
       "      <td>0</td>\n",
       "      <td>1</td>\n",
       "      <td>1</td>\n",
       "      <td>NaN</td>\n",
       "    </tr>\n",
       "  </tbody>\n",
       "</table>\n",
       "<p>1 rows × 26 columns</p>\n",
       "</div>"
      ],
      "text/plain": [
       "    date_of_interest  DEATH_COUNT  PROBABLE_DEATH_COUNT  DEATH_COUNT_7DAY_AVG  \\\n",
       "548       08/30/2021           13                     1                    12   \n",
       "\n",
       "     ALL_DEATH_COUNT_7DAY_AVG  BX_DEATH_COUNT  BX_PROBABLE_DEATH_COUNT  \\\n",
       "548                        12               1                        0   \n",
       "\n",
       "     BX_DEATH_COUNT_7DAY_AVG  BX_ALL_DEATH_COUNT_7DAY_AVG  BK_DEATH_COUNT  \\\n",
       "548                        2                            2               4   \n",
       "\n",
       "     ...  MN_ALL_DEATH_COUNT_7DAY_AVG  QN_DEATH_COUNT  \\\n",
       "548  ...                            1               6   \n",
       "\n",
       "     QN_PROBABLE_DEATH_COUNT  QN_DEATH_COUNT_7DAY_AVG  \\\n",
       "548                        0                        3   \n",
       "\n",
       "     QN_ALL_DEATH_COUNT_7DAY_AVG  SI_DEATH_COUNT  SI_PROBABLE_DEATH_COUNT  \\\n",
       "548                            3               1                        0   \n",
       "\n",
       "     SI_DEATH_COUNT_7DAY_AVG  SI_ALL_DEATH_COUNT_7DAY_AVG  INCOMPLETE  \n",
       "548                        1                            1         NaN  \n",
       "\n",
       "[1 rows x 26 columns]"
      ]
     },
     "execution_count": 7,
     "metadata": {},
     "output_type": "execute_result"
    }
   ],
   "source": [
    "df2[df2[\"date_of_interest\"]== \"08/30/2021\"]"
   ]
  },
  {
   "cell_type": "code",
   "execution_count": 8,
   "id": "3a2f3f8b",
   "metadata": {},
   "outputs": [],
   "source": [
    "total_i = df1[\"BX_CASE_COUNT\"]\n",
    "total_d = df2[\"BX_DEATH_COUNT\"]"
   ]
  },
  {
   "cell_type": "code",
   "execution_count": 9,
   "id": "002ad011",
   "metadata": {},
   "outputs": [],
   "source": [
    "i = df1[\"BX_CASE_COUNT\"]\n",
    "d = df2[\"BX_DEATH_COUNT\"]"
   ]
  },
  {
   "cell_type": "code",
   "execution_count": 10,
   "id": "713f3af0",
   "metadata": {},
   "outputs": [],
   "source": [
    "count_i = i.loc[519:548]#[519:548]\n",
    "#count_i"
   ]
  },
  {
   "cell_type": "code",
   "execution_count": 11,
   "id": "6d140234",
   "metadata": {},
   "outputs": [
    {
     "data": {
      "text/plain": [
       "519    0\n",
       "520    0\n",
       "521    1\n",
       "522    1\n",
       "523    1\n",
       "524    0\n",
       "525    2\n",
       "526    1\n",
       "527    0\n",
       "528    0\n",
       "529    2\n",
       "530    2\n",
       "531    2\n",
       "532    1\n",
       "533    1\n",
       "534    1\n",
       "535    6\n",
       "536    1\n",
       "537    2\n",
       "538    0\n",
       "539    1\n",
       "540    3\n",
       "541    1\n",
       "542    3\n",
       "543    3\n",
       "544    2\n",
       "545    0\n",
       "546    1\n",
       "547    2\n",
       "548    1\n",
       "Name: BX_DEATH_COUNT, dtype: int64"
      ]
     },
     "execution_count": 11,
     "metadata": {},
     "output_type": "execute_result"
    }
   ],
   "source": [
    "count_d = d.loc[519:548]#[519:548]\n",
    "count_d"
   ]
  },
  {
   "cell_type": "code",
   "execution_count": 12,
   "id": "e97f7c1d",
   "metadata": {},
   "outputs": [],
   "source": [
    "sumI = sum(count_i)"
   ]
  },
  {
   "cell_type": "code",
   "execution_count": 13,
   "id": "d98545e0",
   "metadata": {},
   "outputs": [
    {
     "data": {
      "text/plain": [
       "6839"
      ]
     },
     "execution_count": 13,
     "metadata": {},
     "output_type": "execute_result"
    }
   ],
   "source": [
    "sumI"
   ]
  },
  {
   "cell_type": "code",
   "execution_count": 19,
   "id": "241f7306",
   "metadata": {},
   "outputs": [],
   "source": [
    "death_rate = []\n",
    "for dr in count_d:\n",
    "    #print(dr)\n",
    "    d_rate = dr / 1427000# total population of bronx = 1.427m 8415000# sumI#2300000 #total cases = 2.3 million\n",
    "   # print(d_rate)\n",
    "    death_rate.append(d_rate)"
   ]
  },
  {
   "cell_type": "code",
   "execution_count": 20,
   "id": "4b3ff72e",
   "metadata": {},
   "outputs": [
    {
     "data": {
      "text/plain": [
       "[0.0,\n",
       " 0.0,\n",
       " 7.00770847932726e-07,\n",
       " 7.00770847932726e-07,\n",
       " 7.00770847932726e-07,\n",
       " 0.0,\n",
       " 1.401541695865452e-06,\n",
       " 7.00770847932726e-07,\n",
       " 0.0,\n",
       " 0.0,\n",
       " 1.401541695865452e-06,\n",
       " 1.401541695865452e-06,\n",
       " 1.401541695865452e-06,\n",
       " 7.00770847932726e-07,\n",
       " 7.00770847932726e-07,\n",
       " 7.00770847932726e-07,\n",
       " 4.204625087596356e-06,\n",
       " 7.00770847932726e-07,\n",
       " 1.401541695865452e-06,\n",
       " 0.0,\n",
       " 7.00770847932726e-07,\n",
       " 2.102312543798178e-06,\n",
       " 7.00770847932726e-07,\n",
       " 2.102312543798178e-06,\n",
       " 2.102312543798178e-06,\n",
       " 1.401541695865452e-06,\n",
       " 0.0,\n",
       " 7.00770847932726e-07,\n",
       " 1.401541695865452e-06,\n",
       " 7.00770847932726e-07]"
      ]
     },
     "execution_count": 20,
     "metadata": {},
     "output_type": "execute_result"
    }
   ],
   "source": [
    "death_rate"
   ]
  },
  {
   "cell_type": "code",
   "execution_count": 21,
   "id": "28631dce",
   "metadata": {},
   "outputs": [
    {
     "data": {
      "text/plain": [
       "9.577201588413926e-07"
      ]
     },
     "execution_count": 21,
     "metadata": {},
     "output_type": "execute_result"
    }
   ],
   "source": [
    "sum(death_rate)/len(death_rate)"
   ]
  },
  {
   "cell_type": "code",
   "execution_count": 22,
   "id": "0f829c5c",
   "metadata": {},
   "outputs": [
    {
     "data": {
      "text/plain": [
       "9.577201588413926e-07"
      ]
     },
     "execution_count": 22,
     "metadata": {},
     "output_type": "execute_result"
    }
   ],
   "source": [
    "sum(death_rate)/len(death_rate)"
   ]
  },
  {
   "cell_type": "code",
   "execution_count": 288,
   "id": "0af1144c",
   "metadata": {},
   "outputs": [],
   "source": [
    "deathRate = death_rate"
   ]
  },
  {
   "cell_type": "code",
   "execution_count": 23,
   "id": "4dad3515",
   "metadata": {},
   "outputs": [],
   "source": [
    "infected_rate = []\n",
    "for ir in count_i:\n",
    "  \n",
    "    i_rate = ir/ 1427000 #8419000 #total population = 8.419 million\n",
    "\n",
    "    infected_rate.append(i_rate)"
   ]
  },
  {
   "cell_type": "code",
   "execution_count": 24,
   "id": "f0d32a16",
   "metadata": {},
   "outputs": [
    {
     "data": {
      "text/plain": [
       "[6.447091800981079e-05,\n",
       " 0.00016608269096005606,\n",
       " 0.0001618780658724597,\n",
       " 0.00014996496145760335,\n",
       " 0.000145760336370007,\n",
       " 0.0001478626489138052,\n",
       " 0.00012543798177995795,\n",
       " 0.00010861948142957253,\n",
       " 0.00020252277505255782,\n",
       " 0.00018570427470217238,\n",
       " 0.00018360196215837422,\n",
       " 0.00016257883672039244,\n",
       " 0.0001864050455501051,\n",
       " 0.00010161177295024527,\n",
       " 9.810791871058164e-05,\n",
       " 0.00022985283812193414,\n",
       " 0.0002074281709880869,\n",
       " 0.0001913104414856342,\n",
       " 0.00018500350385423965,\n",
       " 0.00019971969166082692,\n",
       " 0.00012613875262789068,\n",
       " 7.28801681850035e-05,\n",
       " 0.00020252277505255782,\n",
       " 0.00020953048353188509,\n",
       " 0.00020042046250875963,\n",
       " 0.00017659425367904695,\n",
       " 0.00016958654519971968,\n",
       " 0.0001212333566923616,\n",
       " 9.670637701471619e-05,\n",
       " 0.0002130343377715487]"
      ]
     },
     "execution_count": 24,
     "metadata": {},
     "output_type": "execute_result"
    }
   ],
   "source": [
    "infected_rate"
   ]
  },
  {
   "cell_type": "code",
   "execution_count": 25,
   "id": "fde76598",
   "metadata": {},
   "outputs": [
    {
     "data": {
      "text/plain": [
       "0.0001597523943003971"
      ]
     },
     "execution_count": 25,
     "metadata": {},
     "output_type": "execute_result"
    }
   ],
   "source": [
    "sum(infected_rate)/len(infected_rate)"
   ]
  },
  {
   "cell_type": "raw",
   "id": "5b0494e8",
   "metadata": {},
   "source": [
    "death_actual = pd.read_csv(\"deathrate-by-modzcta.csv\")"
   ]
  },
  {
   "cell_type": "raw",
   "id": "e44cd14d",
   "metadata": {},
   "source": [
    "death_rate = death_actual[\"DEATHRATE_Citywide\"]\n",
    "death_rate_convert = death_rate/ 100000"
   ]
  },
  {
   "cell_type": "raw",
   "id": "173bda3b",
   "metadata": {},
   "source": [
    "infected_actual = pd.read_csv(\"caserate-by-modzcta.csv\")\n",
    "infected_rate = infected_actual[\"CASERATE_CITY\"]\n",
    "infected_rate_convert = infected_rate/ 100000"
   ]
  },
  {
   "cell_type": "raw",
   "id": "331175c1",
   "metadata": {},
   "source": [
    "#on 8/2021\n",
    "infected_rate_convert[17]"
   ]
  },
  {
   "cell_type": "raw",
   "id": "f84a6e20",
   "metadata": {},
   "source": [
    "real_data_infected_rate_30 = [0.00049,0.00049,0.00049,0.00049,0.00049,0.00049,0.00049,0.00049, 0.00049,\n",
    "                              0.00047,0.00047, 0.00047, 0.00047,0.00047,0.00047, 0.00047,\n",
    "                             0.00050, 0.00050,0.00050 ,0.00050, 0.00050, 0.00050, 0.00050,\n",
    "                             0.00065,0.00065,0.00065,0.00065,0.00065,0.00065,0.00065 ]"
   ]
  },
  {
   "cell_type": "code",
   "execution_count": 26,
   "id": "de5b70e4",
   "metadata": {},
   "outputs": [
    {
     "ename": "NameError",
     "evalue": "name 'rates_simulate' is not defined",
     "output_type": "error",
     "traceback": [
      "\u001b[0;31m---------------------------------------------------------------------------\u001b[0m",
      "\u001b[0;31mNameError\u001b[0m                                 Traceback (most recent call last)",
      "\u001b[0;32m/var/folders/54/q7rzqy794_n1_10_bkdqp42w0000gn/T/ipykernel_2171/839433135.py\u001b[0m in \u001b[0;36m<module>\u001b[0;34m\u001b[0m\n\u001b[0;32m----> 1\u001b[0;31m \u001b[0mrates_simulate\u001b[0m\u001b[0;34m[\u001b[0m\u001b[0;34m\"infection_rate\"\u001b[0m\u001b[0;34m]\u001b[0m\u001b[0;34m[\u001b[0m\u001b[0;36m0\u001b[0m\u001b[0;34m]\u001b[0m\u001b[0;34m\u001b[0m\u001b[0;34m\u001b[0m\u001b[0m\n\u001b[0m",
      "\u001b[0;31mNameError\u001b[0m: name 'rates_simulate' is not defined"
     ]
    }
   ],
   "source": [
    "rates_simulate[\"infection_rate\"][0]"
   ]
  },
  {
   "cell_type": "code",
   "execution_count": 27,
   "id": "d7c0c705",
   "metadata": {},
   "outputs": [],
   "source": [
    "total_i = df1[\"BX_CASE_COUNT\"][519:549]\n",
    "total_d = df2[\"BX_DEATH_COUNT\"][519:549]"
   ]
  },
  {
   "cell_type": "code",
   "execution_count": 28,
   "id": "06bdeca7",
   "metadata": {},
   "outputs": [],
   "source": [
    "total_cases = []\n",
    "n = len(total_i)\n",
    "sumI = 0\n",
    "count = 519\n",
    "while count < 549:\n",
    "    sumI += total_i[count]\n",
    "    total_cases.append(sumI)\n",
    "    count += 1"
   ]
  },
  {
   "cell_type": "code",
   "execution_count": 29,
   "id": "84bcfbe2",
   "metadata": {},
   "outputs": [
    {
     "data": {
      "text/plain": [
       "[92,\n",
       " 329,\n",
       " 560,\n",
       " 774,\n",
       " 982,\n",
       " 1193,\n",
       " 1372,\n",
       " 1527,\n",
       " 1816,\n",
       " 2081,\n",
       " 2343,\n",
       " 2575,\n",
       " 2841,\n",
       " 2986,\n",
       " 3126,\n",
       " 3454,\n",
       " 3750,\n",
       " 4023,\n",
       " 4287,\n",
       " 4572,\n",
       " 4752,\n",
       " 4856,\n",
       " 5145,\n",
       " 5444,\n",
       " 5730,\n",
       " 5982,\n",
       " 6224,\n",
       " 6397,\n",
       " 6535,\n",
       " 6839]"
      ]
     },
     "execution_count": 29,
     "metadata": {},
     "output_type": "execute_result"
    }
   ],
   "source": [
    "total_cases"
   ]
  },
  {
   "cell_type": "code",
   "execution_count": 30,
   "id": "77003ed1",
   "metadata": {},
   "outputs": [],
   "source": [
    "total_cases1 = [i / 842 for i in total_cases]"
   ]
  },
  {
   "cell_type": "code",
   "execution_count": 31,
   "id": "53c262a6",
   "metadata": {},
   "outputs": [],
   "source": [
    "total_deaths = []\n",
    "n = len(total_i)\n",
    "sumI = 0\n",
    "count = 519 #519\n",
    "while count < 549: #549:\n",
    "    sumI += total_i[count]\n",
    "    total_deaths.append(sumI)\n",
    "    count += 1"
   ]
  },
  {
   "cell_type": "code",
   "execution_count": 32,
   "id": "37e402c8",
   "metadata": {},
   "outputs": [],
   "source": [
    "total_deaths1 = [i /842 for i in total_deaths]"
   ]
  },
  {
   "cell_type": "code",
   "execution_count": 356,
   "id": "729dfb6c",
   "metadata": {},
   "outputs": [],
   "source": [
    "infected_rate = [0.00149, 0.0014987, 0.001498, 0.0014887, 0.0014982, 0.0013987, 0.0015987,\n",
    "                0.001573,0.001575,0.001572,0.00156,0.00154,0.00154,0.001568,\n",
    "                0.00162, 0.001621,0.001602,0.001522,0.001722,0.001522,0.001622,\n",
    "                0.0015079, 0.0015279, 0.0015379, 0.0015279, 0.0015279, 0.0015179, 0.0015279,\n",
    "                0.0014007,0.0014107]"
   ]
  },
  {
   "cell_type": "code",
   "execution_count": 357,
   "id": "890bd27d",
   "metadata": {},
   "outputs": [],
   "source": [
    "dead_simulate_df = simulate_df [\"d\"]#[:-5]\n",
    "infected_simulate_df = infected_simulate_df#[:-5] #(simulate_df[\"i\"] + simulate_df[\"h\"] + simulate_df[\"r\"] + simulate_df[\"d\"])\n",
    "#rates_simulate = pd.read_csv(\"infect_dead_rates.csv\")\n",
    "i_rates_simulate = rates_simulate[\"infection_rate\"]#[:-5]#infected_simulate_df/10000 #[\"infection_rate\"]\n",
    "d_rates_simulate = rates_simulate[\"dead_rate\"]#[:-5]"
   ]
  },
  {
   "cell_type": "code",
   "execution_count": null,
   "id": "cba28884",
   "metadata": {},
   "outputs": [],
   "source": []
  },
  {
   "cell_type": "raw",
   "id": "5c21d21a",
   "metadata": {},
   "source": [
    "rates_simulate[rates_simulate[\"dead_rate\"]< 0.00020214825347335236][\"dead_rate\"]= 0.00020214825347335236"
   ]
  },
  {
   "cell_type": "code",
   "execution_count": 358,
   "id": "82b72ec9",
   "metadata": {},
   "outputs": [],
   "source": [
    "\n",
    "#i_rates_simulate[1] = 0.87"
   ]
  },
  {
   "cell_type": "code",
   "execution_count": 359,
   "id": "9bf0edec",
   "metadata": {},
   "outputs": [
    {
     "data": {
      "text/html": [
       "<div>\n",
       "<style scoped>\n",
       "    .dataframe tbody tr th:only-of-type {\n",
       "        vertical-align: middle;\n",
       "    }\n",
       "\n",
       "    .dataframe tbody tr th {\n",
       "        vertical-align: top;\n",
       "    }\n",
       "\n",
       "    .dataframe thead th {\n",
       "        text-align: right;\n",
       "    }\n",
       "</style>\n",
       "<table border=\"1\" class=\"dataframe\">\n",
       "  <thead>\n",
       "    <tr style=\"text-align: right;\">\n",
       "      <th></th>\n",
       "      <th>Unnamed: 0</th>\n",
       "      <th>day</th>\n",
       "      <th>infection_rate</th>\n",
       "      <th>dead_rate</th>\n",
       "    </tr>\n",
       "  </thead>\n",
       "  <tbody>\n",
       "    <tr>\n",
       "      <th>0</th>\n",
       "      <td>0</td>\n",
       "      <td>1.0</td>\n",
       "      <td>0.00060</td>\n",
       "      <td>0.00001</td>\n",
       "    </tr>\n",
       "    <tr>\n",
       "      <th>1</th>\n",
       "      <td>1</td>\n",
       "      <td>2.0</td>\n",
       "      <td>0.00001</td>\n",
       "      <td>0.00001</td>\n",
       "    </tr>\n",
       "    <tr>\n",
       "      <th>2</th>\n",
       "      <td>2</td>\n",
       "      <td>3.0</td>\n",
       "      <td>0.00010</td>\n",
       "      <td>0.00001</td>\n",
       "    </tr>\n",
       "    <tr>\n",
       "      <th>3</th>\n",
       "      <td>3</td>\n",
       "      <td>4.0</td>\n",
       "      <td>0.00001</td>\n",
       "      <td>0.00001</td>\n",
       "    </tr>\n",
       "    <tr>\n",
       "      <th>4</th>\n",
       "      <td>4</td>\n",
       "      <td>5.0</td>\n",
       "      <td>0.00001</td>\n",
       "      <td>0.00001</td>\n",
       "    </tr>\n",
       "    <tr>\n",
       "      <th>5</th>\n",
       "      <td>5</td>\n",
       "      <td>6.0</td>\n",
       "      <td>0.00001</td>\n",
       "      <td>0.00001</td>\n",
       "    </tr>\n",
       "    <tr>\n",
       "      <th>6</th>\n",
       "      <td>6</td>\n",
       "      <td>7.0</td>\n",
       "      <td>0.00020</td>\n",
       "      <td>0.00001</td>\n",
       "    </tr>\n",
       "    <tr>\n",
       "      <th>7</th>\n",
       "      <td>7</td>\n",
       "      <td>8.0</td>\n",
       "      <td>0.00010</td>\n",
       "      <td>0.00001</td>\n",
       "    </tr>\n",
       "    <tr>\n",
       "      <th>8</th>\n",
       "      <td>8</td>\n",
       "      <td>9.0</td>\n",
       "      <td>0.00001</td>\n",
       "      <td>0.00001</td>\n",
       "    </tr>\n",
       "    <tr>\n",
       "      <th>9</th>\n",
       "      <td>9</td>\n",
       "      <td>10.0</td>\n",
       "      <td>0.00001</td>\n",
       "      <td>0.00001</td>\n",
       "    </tr>\n",
       "    <tr>\n",
       "      <th>10</th>\n",
       "      <td>10</td>\n",
       "      <td>11.0</td>\n",
       "      <td>0.00001</td>\n",
       "      <td>0.00001</td>\n",
       "    </tr>\n",
       "    <tr>\n",
       "      <th>11</th>\n",
       "      <td>11</td>\n",
       "      <td>12.0</td>\n",
       "      <td>0.00001</td>\n",
       "      <td>0.00001</td>\n",
       "    </tr>\n",
       "    <tr>\n",
       "      <th>12</th>\n",
       "      <td>12</td>\n",
       "      <td>13.0</td>\n",
       "      <td>0.00010</td>\n",
       "      <td>0.00010</td>\n",
       "    </tr>\n",
       "    <tr>\n",
       "      <th>13</th>\n",
       "      <td>13</td>\n",
       "      <td>14.0</td>\n",
       "      <td>0.00001</td>\n",
       "      <td>0.00020</td>\n",
       "    </tr>\n",
       "    <tr>\n",
       "      <th>14</th>\n",
       "      <td>14</td>\n",
       "      <td>15.0</td>\n",
       "      <td>0.00030</td>\n",
       "      <td>0.00030</td>\n",
       "    </tr>\n",
       "    <tr>\n",
       "      <th>15</th>\n",
       "      <td>15</td>\n",
       "      <td>16.0</td>\n",
       "      <td>0.00010</td>\n",
       "      <td>0.00020</td>\n",
       "    </tr>\n",
       "    <tr>\n",
       "      <th>16</th>\n",
       "      <td>16</td>\n",
       "      <td>17.0</td>\n",
       "      <td>0.00010</td>\n",
       "      <td>0.00010</td>\n",
       "    </tr>\n",
       "    <tr>\n",
       "      <th>17</th>\n",
       "      <td>17</td>\n",
       "      <td>18.0</td>\n",
       "      <td>0.00020</td>\n",
       "      <td>0.00010</td>\n",
       "    </tr>\n",
       "    <tr>\n",
       "      <th>18</th>\n",
       "      <td>18</td>\n",
       "      <td>19.0</td>\n",
       "      <td>0.00010</td>\n",
       "      <td>0.00020</td>\n",
       "    </tr>\n",
       "    <tr>\n",
       "      <th>19</th>\n",
       "      <td>19</td>\n",
       "      <td>20.0</td>\n",
       "      <td>0.00020</td>\n",
       "      <td>0.00030</td>\n",
       "    </tr>\n",
       "    <tr>\n",
       "      <th>20</th>\n",
       "      <td>20</td>\n",
       "      <td>21.0</td>\n",
       "      <td>0.00001</td>\n",
       "      <td>0.00050</td>\n",
       "    </tr>\n",
       "    <tr>\n",
       "      <th>21</th>\n",
       "      <td>21</td>\n",
       "      <td>22.0</td>\n",
       "      <td>0.00001</td>\n",
       "      <td>0.00060</td>\n",
       "    </tr>\n",
       "    <tr>\n",
       "      <th>22</th>\n",
       "      <td>22</td>\n",
       "      <td>23.0</td>\n",
       "      <td>0.00001</td>\n",
       "      <td>0.00040</td>\n",
       "    </tr>\n",
       "    <tr>\n",
       "      <th>23</th>\n",
       "      <td>23</td>\n",
       "      <td>24.0</td>\n",
       "      <td>0.00010</td>\n",
       "      <td>0.00040</td>\n",
       "    </tr>\n",
       "    <tr>\n",
       "      <th>24</th>\n",
       "      <td>24</td>\n",
       "      <td>25.0</td>\n",
       "      <td>0.00010</td>\n",
       "      <td>0.00030</td>\n",
       "    </tr>\n",
       "    <tr>\n",
       "      <th>25</th>\n",
       "      <td>25</td>\n",
       "      <td>26.0</td>\n",
       "      <td>0.00001</td>\n",
       "      <td>0.00040</td>\n",
       "    </tr>\n",
       "    <tr>\n",
       "      <th>26</th>\n",
       "      <td>26</td>\n",
       "      <td>27.0</td>\n",
       "      <td>0.00010</td>\n",
       "      <td>0.00010</td>\n",
       "    </tr>\n",
       "    <tr>\n",
       "      <th>27</th>\n",
       "      <td>27</td>\n",
       "      <td>28.0</td>\n",
       "      <td>0.00010</td>\n",
       "      <td>0.00030</td>\n",
       "    </tr>\n",
       "    <tr>\n",
       "      <th>28</th>\n",
       "      <td>28</td>\n",
       "      <td>29.0</td>\n",
       "      <td>0.00010</td>\n",
       "      <td>0.00050</td>\n",
       "    </tr>\n",
       "    <tr>\n",
       "      <th>29</th>\n",
       "      <td>29</td>\n",
       "      <td>30.0</td>\n",
       "      <td>0.00010</td>\n",
       "      <td>0.00060</td>\n",
       "    </tr>\n",
       "  </tbody>\n",
       "</table>\n",
       "</div>"
      ],
      "text/plain": [
       "    Unnamed: 0   day  infection_rate  dead_rate\n",
       "0            0   1.0         0.00060    0.00001\n",
       "1            1   2.0         0.00001    0.00001\n",
       "2            2   3.0         0.00010    0.00001\n",
       "3            3   4.0         0.00001    0.00001\n",
       "4            4   5.0         0.00001    0.00001\n",
       "5            5   6.0         0.00001    0.00001\n",
       "6            6   7.0         0.00020    0.00001\n",
       "7            7   8.0         0.00010    0.00001\n",
       "8            8   9.0         0.00001    0.00001\n",
       "9            9  10.0         0.00001    0.00001\n",
       "10          10  11.0         0.00001    0.00001\n",
       "11          11  12.0         0.00001    0.00001\n",
       "12          12  13.0         0.00010    0.00010\n",
       "13          13  14.0         0.00001    0.00020\n",
       "14          14  15.0         0.00030    0.00030\n",
       "15          15  16.0         0.00010    0.00020\n",
       "16          16  17.0         0.00010    0.00010\n",
       "17          17  18.0         0.00020    0.00010\n",
       "18          18  19.0         0.00010    0.00020\n",
       "19          19  20.0         0.00020    0.00030\n",
       "20          20  21.0         0.00001    0.00050\n",
       "21          21  22.0         0.00001    0.00060\n",
       "22          22  23.0         0.00001    0.00040\n",
       "23          23  24.0         0.00010    0.00040\n",
       "24          24  25.0         0.00010    0.00030\n",
       "25          25  26.0         0.00001    0.00040\n",
       "26          26  27.0         0.00010    0.00010\n",
       "27          27  28.0         0.00010    0.00030\n",
       "28          28  29.0         0.00010    0.00050\n",
       "29          29  30.0         0.00010    0.00060"
      ]
     },
     "execution_count": 359,
     "metadata": {},
     "output_type": "execute_result"
    }
   ],
   "source": [
    "rates_simulate"
   ]
  },
  {
   "cell_type": "markdown",
   "id": "8aea08cb",
   "metadata": {},
   "source": [
    "d_rates_simulate =[0.00020214825347335236]\n",
    "for i in range (1, len(rates_simulate[\"dead_rate\"])):\n",
    "    a = rates_simulate[\"dead_rate\"][i]\n",
    "    b = rates_simulate[\"dead_rate\"][i-1]\n",
    "    r = (a-b) / 1000\n",
    "    if r == 0:\n",
    "        r = 0.00020214825347335236\n",
    "    d_rates_simulate.append(r)"
   ]
  },
  {
   "cell_type": "raw",
   "id": "e8d9b63a",
   "metadata": {},
   "source": [
    "d_rates_simulate = rates_simulate[\"dead_rate\"][:-5]"
   ]
  },
  {
   "cell_type": "code",
   "execution_count": 360,
   "id": "1d82bbfe",
   "metadata": {},
   "outputs": [
    {
     "data": {
      "text/plain": [
       "0     0.00060\n",
       "1     0.00001\n",
       "2     0.00010\n",
       "3     0.00001\n",
       "4     0.00001\n",
       "5     0.00001\n",
       "6     0.00020\n",
       "7     0.00010\n",
       "8     0.00001\n",
       "9     0.00001\n",
       "10    0.00001\n",
       "11    0.00001\n",
       "12    0.00010\n",
       "13    0.00001\n",
       "14    0.00030\n",
       "15    0.00010\n",
       "16    0.00010\n",
       "17    0.00020\n",
       "18    0.00010\n",
       "19    0.00020\n",
       "20    0.00001\n",
       "21    0.00001\n",
       "22    0.00001\n",
       "23    0.00010\n",
       "24    0.00010\n",
       "25    0.00001\n",
       "26    0.00010\n",
       "27    0.00010\n",
       "28    0.00010\n",
       "29    0.00010\n",
       "Name: infection_rate, dtype: float64"
      ]
     },
     "execution_count": 360,
     "metadata": {},
     "output_type": "execute_result"
    }
   ],
   "source": [
    "i_rates_simulate"
   ]
  },
  {
   "cell_type": "code",
   "execution_count": 361,
   "id": "7512af60",
   "metadata": {},
   "outputs": [
    {
     "data": {
      "text/plain": [
       "[<matplotlib.lines.Line2D at 0x7fdde1308e50>]"
      ]
     },
     "execution_count": 361,
     "metadata": {},
     "output_type": "execute_result"
    },
    {
     "data": {
      "image/png": "[encoded data removed]",
      "text/plain": [
       "<Figure size 432x288 with 1 Axes>"
      ]
     },
     "metadata": {
      "needs_background": "light"
     },
     "output_type": "display_data"
    }
   ],
   "source": [
    "plt.plot(i_rates_simulate)"
   ]
  },
  {
   "cell_type": "code",
   "execution_count": 362,
   "id": "83429c4b",
   "metadata": {},
   "outputs": [
    {
     "data": {
      "text/plain": [
       "[<matplotlib.lines.Line2D at 0x7fdde1403d90>]"
      ]
     },
     "execution_count": 362,
     "metadata": {},
     "output_type": "execute_result"
    },
    {
     "data": {
      "image/png": "[encoded data removed]",
      "text/plain": [
       "<Figure size 432x288 with 1 Axes>"
      ]
     },
     "metadata": {
      "needs_background": "light"
     },
     "output_type": "display_data"
    }
   ],
   "source": [
    "plt.plot(infected_rate)"
   ]
  },
  {
   "cell_type": "code",
   "execution_count": 363,
   "id": "44c21c18",
   "metadata": {},
   "outputs": [
    {
     "data": {
      "text/plain": [
       "[<matplotlib.lines.Line2D at 0x7fdde151fc90>]"
      ]
     },
     "execution_count": 363,
     "metadata": {},
     "output_type": "execute_result"
    },
    {
     "data": {
      "image/png": "[encoded data removed]",
      "text/plain": [
       "<Figure size 432x288 with 1 Axes>"
      ]
     },
     "metadata": {
      "needs_background": "light"
     },
     "output_type": "display_data"
    }
   ],
   "source": [
    "plt.plot(i_rates_simulate)"
   ]
  },
  {
   "cell_type": "code",
   "execution_count": 364,
   "id": "b27d393a",
   "metadata": {},
   "outputs": [
    {
     "data": {
      "text/plain": [
       "[<matplotlib.lines.Line2D at 0x7fdde155d550>]"
      ]
     },
     "execution_count": 364,
     "metadata": {},
     "output_type": "execute_result"
    },
    {
     "data": {
      "image/png": "[encoded data removed]",
      "text/plain": [
       "<Figure size 432x288 with 1 Axes>"
      ]
     },
     "metadata": {
      "needs_background": "light"
     },
     "output_type": "display_data"
    }
   ],
   "source": [
    "plt.plot(deathRate)"
   ]
  },
  {
   "cell_type": "code",
   "execution_count": 365,
   "id": "8ef23ede",
   "metadata": {},
   "outputs": [
    {
     "data": {
      "text/plain": [
       "[<matplotlib.lines.Line2D at 0x7fdde1689b50>]"
      ]
     },
     "execution_count": 365,
     "metadata": {},
     "output_type": "execute_result"
    },
    {
     "data": {
      "image/png": "[encoded data removed]",
      "text/plain": [
       "<Figure size 432x288 with 1 Axes>"
      ]
     },
     "metadata": {
      "needs_background": "light"
     },
     "output_type": "display_data"
    }
   ],
   "source": [
    "plt.plot(d_rates_simulate)"
   ]
  },
  {
   "cell_type": "code",
   "execution_count": 366,
   "id": "27002774",
   "metadata": {},
   "outputs": [
    {
     "data": {
      "text/plain": [
       "0      0\n",
       "1      0\n",
       "2      0\n",
       "3      0\n",
       "4      0\n",
       "5      0\n",
       "6      0\n",
       "7      0\n",
       "8      0\n",
       "9      0\n",
       "10     0\n",
       "11     0\n",
       "12     1\n",
       "13     3\n",
       "14     6\n",
       "15     8\n",
       "16     9\n",
       "17    10\n",
       "18    12\n",
       "19    15\n",
       "20    20\n",
       "21    26\n",
       "22    30\n",
       "23    34\n",
       "24    37\n",
       "25    41\n",
       "26    42\n",
       "27    45\n",
       "28    50\n",
       "29    56\n",
       "Name: d, dtype: int64"
      ]
     },
     "execution_count": 366,
     "metadata": {},
     "output_type": "execute_result"
    }
   ],
   "source": [
    "dead_simulate_df"
   ]
  },
  {
   "cell_type": "code",
   "execution_count": 367,
   "id": "cdd4daac",
   "metadata": {},
   "outputs": [
    {
     "data": {
      "text/plain": [
       "[<matplotlib.lines.Line2D at 0x7fdde16f7ad0>]"
      ]
     },
     "execution_count": 367,
     "metadata": {},
     "output_type": "execute_result"
    },
    {
     "data": {
      "image/png": "[encoded data removed]",
      "text/plain": [
       "<Figure size 432x288 with 1 Axes>"
      ]
     },
     "metadata": {
      "needs_background": "light"
     },
     "output_type": "display_data"
    }
   ],
   "source": [
    "plt.plot(dead_simulate_df)"
   ]
  },
  {
   "cell_type": "code",
   "execution_count": null,
   "id": "5e62fea6",
   "metadata": {},
   "outputs": [],
   "source": []
  },
  {
   "cell_type": "code",
   "execution_count": 368,
   "id": "442a49eb",
   "metadata": {},
   "outputs": [
    {
     "data": {
      "text/plain": [
       "0     506\n",
       "1     506\n",
       "2     507\n",
       "3     507\n",
       "4     507\n",
       "5     507\n",
       "6     509\n",
       "7     510\n",
       "8     510\n",
       "9     510\n",
       "10    510\n",
       "11    510\n",
       "12    510\n",
       "13    508\n",
       "14    508\n",
       "15    507\n",
       "16    507\n",
       "17    508\n",
       "18    507\n",
       "19    506\n",
       "20    501\n",
       "21    495\n",
       "22    491\n",
       "23    488\n",
       "24    486\n",
       "25    482\n",
       "26    482\n",
       "27    480\n",
       "28    476\n",
       "29    471\n",
       "dtype: int64"
      ]
     },
     "execution_count": 368,
     "metadata": {},
     "output_type": "execute_result"
    }
   ],
   "source": [
    "infected_simulate_df"
   ]
  },
  {
   "cell_type": "code",
   "execution_count": 369,
   "id": "8ae23b48",
   "metadata": {},
   "outputs": [
    {
     "data": {
      "text/plain": [
       "[<matplotlib.lines.Line2D at 0x7fdde18a2210>]"
      ]
     },
     "execution_count": 369,
     "metadata": {},
     "output_type": "execute_result"
    },
    {
     "data": {
      "image/png": "[encoded data removed]",
      "text/plain": [
       "<Figure size 432x288 with 1 Axes>"
      ]
     },
     "metadata": {
      "needs_background": "light"
     },
     "output_type": "display_data"
    }
   ],
   "source": [
    "plt.plot(total_deaths1) "
   ]
  },
  {
   "cell_type": "code",
   "execution_count": 370,
   "id": "a703d876",
   "metadata": {},
   "outputs": [],
   "source": [
    "# in a whole"
   ]
  },
  {
   "cell_type": "raw",
   "id": "23cbaf4c",
   "metadata": {},
   "source": [
    "for i in range(len(infected_rate)):\n",
    "    infected_rate[i] = round(infected_rate[i], 4)"
   ]
  },
  {
   "cell_type": "raw",
   "id": "26a0fd85",
   "metadata": {},
   "source": [
    "for i in range(len(i_rates_simulate)):\n",
    "    i_rates_simulate[i] = round(i_rates_simulate[i], 4)"
   ]
  },
  {
   "cell_type": "raw",
   "id": "2349f017",
   "metadata": {},
   "source": [
    "for i in range(len(deathRate)):\n",
    "    deathRate[i] = round(deathRate[i], 4)"
   ]
  },
  {
   "cell_type": "raw",
   "id": "1f12d1fe",
   "metadata": {},
   "source": [
    "for i in range(len(d_rates_simulate)):\n",
    "    d_rates_simulate[i] = round(d_rates_simulate[i], 4)"
   ]
  },
  {
   "cell_type": "code",
   "execution_count": 371,
   "id": "158e2187",
   "metadata": {},
   "outputs": [],
   "source": [
    "#begin MAE\n",
    "from sklearn.metrics import mean_absolute_error\n",
    "# infected cases\n",
    "infected_cases_MAE = mean_absolute_error(total_cases1, infected_simulate_df[:])"
   ]
  },
  {
   "cell_type": "code",
   "execution_count": 372,
   "id": "ad35c7a6",
   "metadata": {},
   "outputs": [
    {
     "data": {
      "text/plain": [
       "473.02470308788605"
      ]
     },
     "execution_count": 372,
     "metadata": {},
     "output_type": "execute_result"
    }
   ],
   "source": [
    "infected_cases_MAE"
   ]
  },
  {
   "cell_type": "code",
   "execution_count": 373,
   "id": "f2728b58",
   "metadata": {},
   "outputs": [],
   "source": [
    "death_cases_MAE = mean_absolute_error(total_deaths1, dead_simulate_df)"
   ]
  },
  {
   "cell_type": "code",
   "execution_count": 374,
   "id": "01e91176",
   "metadata": {},
   "outputs": [
    {
     "data": {
      "text/plain": [
       "12.726682501979417"
      ]
     },
     "execution_count": 374,
     "metadata": {},
     "output_type": "execute_result"
    }
   ],
   "source": [
    "death_cases_MAE"
   ]
  },
  {
   "cell_type": "code",
   "execution_count": 375,
   "id": "734686cb",
   "metadata": {},
   "outputs": [],
   "source": [
    "infected_rates_MAE = mean_absolute_error(infected_rate, i_rates_simulate)"
   ]
  },
  {
   "cell_type": "code",
   "execution_count": 376,
   "id": "6c038c2a",
   "metadata": {},
   "outputs": [
    {
     "data": {
      "text/plain": [
       "0.00144289"
      ]
     },
     "execution_count": 376,
     "metadata": {},
     "output_type": "execute_result"
    }
   ],
   "source": [
    "infected_rates_MAE"
   ]
  },
  {
   "cell_type": "code",
   "execution_count": 377,
   "id": "f42be440",
   "metadata": {},
   "outputs": [
    {
     "data": {
      "text/plain": [
       "0.00018951000198059022"
      ]
     },
     "execution_count": 377,
     "metadata": {},
     "output_type": "execute_result"
    }
   ],
   "source": [
    "dead_rates_MAE = mean_absolute_error(deathRate, d_rates_simulate)\n",
    "dead_rates_MAE"
   ]
  },
  {
   "cell_type": "code",
   "execution_count": 378,
   "id": "f5d5cf42",
   "metadata": {},
   "outputs": [],
   "source": [
    "#mean squared error\n",
    "from sklearn.metrics import mean_squared_error"
   ]
  },
  {
   "cell_type": "code",
   "execution_count": 379,
   "id": "44490f45",
   "metadata": {},
   "outputs": [
    {
     "data": {
      "text/plain": [
       "224441.91630021643"
      ]
     },
     "execution_count": 379,
     "metadata": {},
     "output_type": "execute_result"
    }
   ],
   "source": [
    "infected_cases_MSE = mean_squared_error(total_cases1, infected_simulate_df)\n",
    "infected_cases_MSE"
   ]
  },
  {
   "cell_type": "code",
   "execution_count": 380,
   "id": "e2d6fd8a",
   "metadata": {},
   "outputs": [
    {
     "data": {
      "text/plain": [
       "213.80276102406702"
      ]
     },
     "execution_count": 380,
     "metadata": {},
     "output_type": "execute_result"
    }
   ],
   "source": [
    "death_cases_MSE = mean_squared_error(total_deaths1, dead_simulate_df)\n",
    "death_cases_MSE"
   ]
  },
  {
   "cell_type": "code",
   "execution_count": 381,
   "id": "366f5490",
   "metadata": {},
   "outputs": [
    {
     "data": {
      "text/plain": [
       "2.100199028333334e-06"
      ]
     },
     "execution_count": 381,
     "metadata": {},
     "output_type": "execute_result"
    }
   ],
   "source": [
    "infected_rates_MSE = mean_squared_error(infected_rate, i_rates_simulate)\n",
    "infected_rates_MSE "
   ]
  },
  {
   "cell_type": "code",
   "execution_count": 382,
   "id": "9df88092",
   "metadata": {},
   "outputs": [
    {
     "data": {
      "text/plain": [
       "7.353028485782881e-08"
      ]
     },
     "execution_count": 382,
     "metadata": {},
     "output_type": "execute_result"
    }
   ],
   "source": [
    "dead_rates_MSE = mean_squared_error(deathRate, d_rates_simulate)\n",
    "dead_rates_MSE"
   ]
  },
  {
   "cell_type": "code",
   "execution_count": 383,
   "id": "435807af",
   "metadata": {},
   "outputs": [],
   "source": [
    "#pearson\n",
    "from scipy.stats import pearsonr"
   ]
  },
  {
   "cell_type": "code",
   "execution_count": 384,
   "id": "7840a455",
   "metadata": {},
   "outputs": [
    {
     "name": "stdout",
     "output_type": "stream",
     "text": [
      "Pearsons correlation: -0.807\n"
     ]
    }
   ],
   "source": [
    "corr, _ = pearsonr(total_cases1[:30], infected_simulate_df)\n",
    "print('Pearsons correlation: %.3f' % corr)"
   ]
  },
  {
   "cell_type": "code",
   "execution_count": 385,
   "id": "60223dc1",
   "metadata": {},
   "outputs": [
    {
     "name": "stdout",
     "output_type": "stream",
     "text": [
      "Pearsons correlation: 0.909\n"
     ]
    }
   ],
   "source": [
    "corr, _ = pearsonr(total_deaths1[:30], dead_simulate_df)\n",
    "print('Pearsons correlation: %.3f' % corr)"
   ]
  },
  {
   "cell_type": "code",
   "execution_count": 386,
   "id": "1c9c8074",
   "metadata": {},
   "outputs": [
    {
     "name": "stdout",
     "output_type": "stream",
     "text": [
      "Pearsons correlation: 0.021\n"
     ]
    }
   ],
   "source": [
    "corr, _ = pearsonr(infected_rate, i_rates_simulate)\n",
    "print('Pearsons correlation: %.3f' % corr)"
   ]
  },
  {
   "cell_type": "code",
   "execution_count": 387,
   "id": "cbcc72f9",
   "metadata": {},
   "outputs": [
    {
     "name": "stdout",
     "output_type": "stream",
     "text": [
      "Pearsons correlation: 0.430\n"
     ]
    }
   ],
   "source": [
    "corr, _ = pearsonr(deathRate, d_rates_simulate)\n",
    "print('Pearsons correlation: %.3f' % corr)"
   ]
  },
  {
   "cell_type": "markdown",
   "id": "0e51066b",
   "metadata": {},
   "source": [
    "## the first week"
   ]
  },
  {
   "cell_type": "code",
   "execution_count": 388,
   "id": "fa0090f5",
   "metadata": {},
   "outputs": [
    {
     "data": {
      "text/plain": [
       "500.03904394299286"
      ]
     },
     "execution_count": 388,
     "metadata": {},
     "output_type": "execute_result"
    }
   ],
   "source": [
    "from sklearn.metrics import mean_absolute_error\n",
    "# infected cases\n",
    "infected_cases_MAE_w1 = mean_absolute_error(total_cases1[0:8], infected_simulate_df[0:8])\n",
    "infected_cases_MAE_w1"
   ]
  },
  {
   "cell_type": "code",
   "execution_count": 389,
   "id": "a01598bc",
   "metadata": {},
   "outputs": [
    {
     "data": {
      "text/plain": [
       "7.3359560570071265"
      ]
     },
     "execution_count": 389,
     "metadata": {},
     "output_type": "execute_result"
    }
   ],
   "source": [
    "death_cases_MAE_w1 = mean_absolute_error(total_deaths1[0:8], dead_simulate_df[0:8])\n",
    "death_cases_MAE_w1"
   ]
  },
  {
   "cell_type": "code",
   "execution_count": 390,
   "id": "10274480",
   "metadata": {},
   "outputs": [
    {
     "data": {
      "text/plain": [
       "0.0013755"
      ]
     },
     "execution_count": 390,
     "metadata": {},
     "output_type": "execute_result"
    }
   ],
   "source": [
    "infected_rates_MAE_w1 = mean_absolute_error(infected_rate[0:8], i_rates_simulate[0:8])\n",
    "infected_rates_MAE_w1"
   ]
  },
  {
   "cell_type": "code",
   "execution_count": 391,
   "id": "d2f19def",
   "metadata": {},
   "outputs": [
    {
     "data": {
      "text/plain": [
       "9.064171122994653e-06"
      ]
     },
     "execution_count": 391,
     "metadata": {},
     "output_type": "execute_result"
    }
   ],
   "source": [
    "dead_rates_MAE_w1 = mean_absolute_error(deathRate[0:8], d_rates_simulate[0:8])\n",
    "dead_rates_MAE_w1"
   ]
  },
  {
   "cell_type": "code",
   "execution_count": 392,
   "id": "60e2c8b2",
   "metadata": {},
   "outputs": [
    {
     "data": {
      "text/plain": [
       "250047.75934303433"
      ]
     },
     "execution_count": 392,
     "metadata": {},
     "output_type": "execute_result"
    }
   ],
   "source": [
    "#mean squared error\n",
    "infected_cases_MSE_w1 = mean_squared_error(total_cases1[0:8], infected_simulate_df[0:8])\n",
    "infected_cases_MSE_w1"
   ]
  },
  {
   "cell_type": "code",
   "execution_count": 393,
   "id": "9c086b09",
   "metadata": {},
   "outputs": [
    {
     "data": {
      "text/plain": [
       "69.91433115785851"
      ]
     },
     "execution_count": 393,
     "metadata": {},
     "output_type": "execute_result"
    }
   ],
   "source": [
    "death_cases_MSE_w1 = mean_squared_error(total_deaths1[0:8], dead_simulate_df[0:8])\n",
    "death_cases_MSE_w1"
   ]
  },
  {
   "cell_type": "code",
   "execution_count": 394,
   "id": "f84def58",
   "metadata": {},
   "outputs": [
    {
     "data": {
      "text/plain": [
       "1.927325375e-06"
      ]
     },
     "execution_count": 394,
     "metadata": {},
     "output_type": "execute_result"
    }
   ],
   "source": [
    "infected_rates_MSE_w1 = mean_squared_error(infected_rate[0:8], i_rates_simulate[0:8])\n",
    "infected_rates_MSE_w1 "
   ]
  },
  {
   "cell_type": "code",
   "execution_count": 395,
   "id": "a9bbbc02",
   "metadata": {},
   "outputs": [
    {
     "data": {
      "text/plain": [
       "8.23725705554373e-11"
      ]
     },
     "execution_count": 395,
     "metadata": {},
     "output_type": "execute_result"
    }
   ],
   "source": [
    "dead_rates_MSE_w1 = mean_squared_error(deathRate[0:8], d_rates_simulate[0:8])\n",
    "dead_rates_MSE_w1"
   ]
  },
  {
   "cell_type": "code",
   "execution_count": 396,
   "id": "4451b77b",
   "metadata": {},
   "outputs": [
    {
     "name": "stdout",
     "output_type": "stream",
     "text": [
      "Pearsons correlation infected cases: -0.807\n"
     ]
    }
   ],
   "source": [
    "corr_i1, _ = pearsonr(total_cases1, infected_simulate_df)\n",
    "print('Pearsons correlation infected cases: %.3f' % corr_i1)"
   ]
  },
  {
   "cell_type": "code",
   "execution_count": 397,
   "id": "f8a79f3e",
   "metadata": {},
   "outputs": [
    {
     "name": "stdout",
     "output_type": "stream",
     "text": [
      "Pearsons correlation: 0.909\n"
     ]
    }
   ],
   "source": [
    "corr_d1, _ = pearsonr(total_deaths1, dead_simulate_df)\n",
    "print('Pearsons correlation: %.3f' % corr_d1)"
   ]
  },
  {
   "cell_type": "code",
   "execution_count": 398,
   "id": "b3172424",
   "metadata": {},
   "outputs": [
    {
     "name": "stdout",
     "output_type": "stream",
     "text": [
      "Pearsons correlation: 0.021\n"
     ]
    }
   ],
   "source": [
    "corr_ir1, _ = pearsonr(infected_rate, i_rates_simulate)\n",
    "print('Pearsons correlation: %.3f' % corr_ir1)"
   ]
  },
  {
   "cell_type": "code",
   "execution_count": 399,
   "id": "3b610f71",
   "metadata": {},
   "outputs": [
    {
     "name": "stdout",
     "output_type": "stream",
     "text": [
      "Pearsons correlation: 0.430\n"
     ]
    }
   ],
   "source": [
    "corr_dr1, _ = pearsonr(deathRate, d_rates_simulate)\n",
    "print('Pearsons correlation: %.3f' % corr_dr1)"
   ]
  },
  {
   "cell_type": "markdown",
   "id": "149667fe",
   "metadata": {},
   "source": [
    "## The second week"
   ]
  },
  {
   "cell_type": "code",
   "execution_count": 400,
   "id": "51e0e739",
   "metadata": {},
   "outputs": [
    {
     "data": {
      "text/plain": [
       "488.4694604682728"
      ]
     },
     "execution_count": 400,
     "metadata": {},
     "output_type": "execute_result"
    }
   ],
   "source": [
    "# MAE\n",
    "infected_cases_MAE_w2 = mean_absolute_error(total_cases1[8:15], infected_simulate_df[8:15])\n",
    "infected_cases_MAE_w2"
   ]
  },
  {
   "cell_type": "code",
   "execution_count": 401,
   "id": "0370baf9",
   "metadata": {},
   "outputs": [
    {
     "data": {
      "text/plain": [
       "19.530539531727182"
      ]
     },
     "execution_count": 401,
     "metadata": {},
     "output_type": "execute_result"
    }
   ],
   "source": [
    "death_cases_MAE_w2 = mean_absolute_error(total_deaths1[8:15], dead_simulate_df[8:15])\n",
    "death_cases_MAE_w2"
   ]
  },
  {
   "cell_type": "code",
   "execution_count": 402,
   "id": "b6f9b04a",
   "metadata": {},
   "outputs": [
    {
     "data": {
      "text/plain": [
       "0.0015035714285714286"
      ]
     },
     "execution_count": 402,
     "metadata": {},
     "output_type": "execute_result"
    }
   ],
   "source": [
    "infected_rates_MAE_w2 = mean_absolute_error(infected_rate[8:15], i_rates_simulate[8:15])\n",
    "infected_rates_MAE_w2"
   ]
  },
  {
   "cell_type": "code",
   "execution_count": 403,
   "id": "4c9cb400",
   "metadata": {},
   "outputs": [
    {
     "data": {
      "text/plain": [
       "9.049486461251166e-05"
      ]
     },
     "execution_count": 403,
     "metadata": {},
     "output_type": "execute_result"
    }
   ],
   "source": [
    "dead_rates_MAE_w2 = mean_absolute_error(deathRate[8:15], d_rates_simulate[8:15])\n",
    "dead_rates_MAE_w2"
   ]
  },
  {
   "cell_type": "code",
   "execution_count": 404,
   "id": "254c80c3",
   "metadata": {},
   "outputs": [
    {
     "data": {
      "text/plain": [
       "238621.24414558223"
      ]
     },
     "execution_count": 404,
     "metadata": {},
     "output_type": "execute_result"
    }
   ],
   "source": [
    "#MSE\n",
    "infected_cases_MSE_w2 = mean_squared_error(total_cases1[8:15], infected_simulate_df[8:15])\n",
    "infected_cases_MSE_w2"
   ]
  },
  {
   "cell_type": "code",
   "execution_count": 405,
   "id": "a94e9584",
   "metadata": {},
   "outputs": [
    {
     "data": {
      "text/plain": [
       "387.01815304746486"
      ]
     },
     "execution_count": 405,
     "metadata": {},
     "output_type": "execute_result"
    }
   ],
   "source": [
    "death_cases_MSE_w2 = mean_squared_error(total_deaths1[8:15], dead_simulate_df[8:15])\n",
    "death_cases_MSE_w2"
   ]
  },
  {
   "cell_type": "code",
   "execution_count": 406,
   "id": "c9849a06",
   "metadata": {},
   "outputs": [
    {
     "data": {
      "text/plain": [
       "2.2679761428571425e-06"
      ]
     },
     "execution_count": 406,
     "metadata": {},
     "output_type": "execute_result"
    }
   ],
   "source": [
    "infected_rates_MSE_w2 = mean_squared_error(infected_rate[8:15], i_rates_simulate[8:15])\n",
    "infected_rates_MSE_w2 "
   ]
  },
  {
   "cell_type": "code",
   "execution_count": 407,
   "id": "4b11f7b6",
   "metadata": {},
   "outputs": [
    {
     "data": {
      "text/plain": [
       "1.9888287832463145e-08"
      ]
     },
     "execution_count": 407,
     "metadata": {},
     "output_type": "execute_result"
    }
   ],
   "source": [
    "dead_rates_MSE_w2 = mean_squared_error(deathRate[8:15], d_rates_simulate[8:15])\n",
    "dead_rates_MSE_w2"
   ]
  },
  {
   "cell_type": "code",
   "execution_count": 408,
   "id": "14acc4e7",
   "metadata": {},
   "outputs": [
    {
     "name": "stdout",
     "output_type": "stream",
     "text": [
      "Pearsons correlation infected cases: -0.738\n"
     ]
    }
   ],
   "source": [
    "corr_i2, _ = pearsonr(total_cases1[8:15], infected_simulate_df[8:15])\n",
    "print('Pearsons correlation infected cases: %.3f' % corr_i2)"
   ]
  },
  {
   "cell_type": "code",
   "execution_count": 409,
   "id": "699c2914",
   "metadata": {},
   "outputs": [
    {
     "name": "stdout",
     "output_type": "stream",
     "text": [
      "Pearsons correlation: 0.785\n"
     ]
    }
   ],
   "source": [
    "corr_d2, _ = pearsonr(total_deaths1[8:15], dead_simulate_df[8:15])\n",
    "print('Pearsons correlation: %.3f' % corr_d2)"
   ]
  },
  {
   "cell_type": "code",
   "execution_count": 410,
   "id": "2fc15532",
   "metadata": {},
   "outputs": [
    {
     "name": "stdout",
     "output_type": "stream",
     "text": [
      "Pearsons correlation: 0.711\n"
     ]
    }
   ],
   "source": [
    "corr_ir2, _ = pearsonr(infected_rate[8:15], i_rates_simulate[8:15])\n",
    "print('Pearsons correlation: %.3f' % corr_ir2)"
   ]
  },
  {
   "cell_type": "code",
   "execution_count": 411,
   "id": "82f4ad6d",
   "metadata": {},
   "outputs": [
    {
     "name": "stdout",
     "output_type": "stream",
     "text": [
      "Pearsons correlation: -0.023\n"
     ]
    }
   ],
   "source": [
    "corr_dr2, _ = pearsonr(deathRate[8:15], d_rates_simulate[8:15])\n",
    "print('Pearsons correlation: %.3f' % corr_dr2)"
   ]
  },
  {
   "cell_type": "code",
   "execution_count": 412,
   "id": "162a2e5b",
   "metadata": {},
   "outputs": [
    {
     "data": {
      "text/plain": [
       "[0.001575, 0.001572, 0.00156, 0.00154, 0.00154, 0.001568, 0.00162]"
      ]
     },
     "execution_count": 412,
     "metadata": {},
     "output_type": "execute_result"
    }
   ],
   "source": [
    "infected_rate[8:15]"
   ]
  },
  {
   "cell_type": "code",
   "execution_count": 413,
   "id": "ca290e16",
   "metadata": {},
   "outputs": [
    {
     "data": {
      "text/plain": [
       "8     0.00001\n",
       "9     0.00001\n",
       "10    0.00001\n",
       "11    0.00001\n",
       "12    0.00010\n",
       "13    0.00001\n",
       "14    0.00030\n",
       "Name: infection_rate, dtype: float64"
      ]
     },
     "execution_count": 413,
     "metadata": {},
     "output_type": "execute_result"
    }
   ],
   "source": [
    "i_rates_simulate[8:15]"
   ]
  },
  {
   "cell_type": "markdown",
   "id": "2eb5ae2e",
   "metadata": {},
   "source": [
    "## the third week"
   ]
  },
  {
   "cell_type": "code",
   "execution_count": 414,
   "id": "a5b2b723",
   "metadata": {},
   "outputs": [
    {
     "data": {
      "text/plain": [
       "470.51543942992873"
      ]
     },
     "execution_count": 414,
     "metadata": {},
     "output_type": "execute_result"
    }
   ],
   "source": [
    "# MAE\n",
    "infected_cases_MAE_w3 = mean_absolute_error(total_cases1[15:22], infected_simulate_df[15:22])\n",
    "infected_cases_MAE_w3"
   ]
  },
  {
   "cell_type": "code",
   "execution_count": 415,
   "id": "e93b6939",
   "metadata": {},
   "outputs": [
    {
     "data": {
      "text/plain": [
       "19.627417712928406"
      ]
     },
     "execution_count": 415,
     "metadata": {},
     "output_type": "execute_result"
    }
   ],
   "source": [
    "death_cases_MAE_w3 = mean_absolute_error(total_deaths1[15:22], dead_simulate_df[15:22])\n",
    "death_cases_MAE_w3"
   ]
  },
  {
   "cell_type": "code",
   "execution_count": 416,
   "id": "1bc52e9e",
   "metadata": {},
   "outputs": [
    {
     "data": {
      "text/plain": [
       "0.001485557142857143"
      ]
     },
     "execution_count": 416,
     "metadata": {},
     "output_type": "execute_result"
    }
   ],
   "source": [
    "infected_rates_MAE_w3 = mean_absolute_error(infected_rate[15:22], i_rates_simulate[15:22])\n",
    "infected_rates_MAE_w3"
   ]
  },
  {
   "cell_type": "code",
   "execution_count": 417,
   "id": "2328e981",
   "metadata": {},
   "outputs": [
    {
     "data": {
      "text/plain": [
       "0.0002843561667091079"
      ]
     },
     "execution_count": 417,
     "metadata": {},
     "output_type": "execute_result"
    }
   ],
   "source": [
    "dead_rates_MAE_w3 = mean_absolute_error(deathRate[15:22], d_rates_simulate[15:22])\n",
    "dead_rates_MAE_w3"
   ]
  },
  {
   "cell_type": "code",
   "execution_count": 418,
   "id": "61a9fc8a",
   "metadata": {},
   "outputs": [
    {
     "data": {
      "text/plain": [
       "221439.47190306662"
      ]
     },
     "execution_count": 418,
     "metadata": {},
     "output_type": "execute_result"
    }
   ],
   "source": [
    "#MSE\n",
    "infected_cases_MSE_w3 = mean_squared_error(total_cases1[15:22], infected_simulate_df[15:22])\n",
    "infected_cases_MSE_w3"
   ]
  },
  {
   "cell_type": "code",
   "execution_count": 419,
   "id": "45acd3f4",
   "metadata": {},
   "outputs": [
    {
     "data": {
      "text/plain": [
       "396.2835759542899"
      ]
     },
     "execution_count": 419,
     "metadata": {},
     "output_type": "execute_result"
    }
   ],
   "source": [
    "death_cases_MSE_w3 = mean_squared_error(total_deaths1[15:22], dead_simulate_df[15:22])\n",
    "death_cases_MSE_w3"
   ]
  },
  {
   "cell_type": "code",
   "execution_count": 420,
   "id": "ae20a453",
   "metadata": {},
   "outputs": [
    {
     "data": {
      "text/plain": [
       "2.219706487142857e-06"
      ]
     },
     "execution_count": 420,
     "metadata": {},
     "output_type": "execute_result"
    }
   ],
   "source": [
    "infected_rates_MSE_w3 = mean_squared_error(infected_rate[15:22], i_rates_simulate[15:22])\n",
    "infected_rates_MSE_w3 "
   ]
  },
  {
   "cell_type": "code",
   "execution_count": 421,
   "id": "af734c02",
   "metadata": {},
   "outputs": [
    {
     "data": {
      "text/plain": [
       "1.1352043076904145e-07"
      ]
     },
     "execution_count": 421,
     "metadata": {},
     "output_type": "execute_result"
    }
   ],
   "source": [
    "dead_rates_MSE_w3 = mean_squared_error(deathRate[15:22], d_rates_simulate[15:22])\n",
    "dead_rates_MSE_w3"
   ]
  },
  {
   "cell_type": "code",
   "execution_count": 422,
   "id": "1cc93fa3",
   "metadata": {},
   "outputs": [
    {
     "name": "stdout",
     "output_type": "stream",
     "text": [
      "Pearsons correlation infected cases: -0.728\n"
     ]
    }
   ],
   "source": [
    "corr_i3, _ = pearsonr(total_cases1[15:22], infected_simulate_df[15:22])\n",
    "print('Pearsons correlation infected cases: %.3f' % corr_i3)"
   ]
  },
  {
   "cell_type": "code",
   "execution_count": 423,
   "id": "8155cfca",
   "metadata": {},
   "outputs": [
    {
     "name": "stdout",
     "output_type": "stream",
     "text": [
      "Pearsons correlation: 0.897\n"
     ]
    }
   ],
   "source": [
    "corr_d3, _ = pearsonr(total_deaths1[15:22], dead_simulate_df[15:22])\n",
    "print('Pearsons correlation: %.3f' % corr_d3)"
   ]
  },
  {
   "cell_type": "code",
   "execution_count": 424,
   "id": "6748f16b",
   "metadata": {},
   "outputs": [
    {
     "name": "stdout",
     "output_type": "stream",
     "text": [
      "Pearsons correlation: -0.253\n"
     ]
    }
   ],
   "source": [
    "corr_ir3, _ = pearsonr(infected_rate[15:22], i_rates_simulate[15:22])\n",
    "print('Pearsons correlation: %.3f' % corr_ir3)"
   ]
  },
  {
   "cell_type": "code",
   "execution_count": 425,
   "id": "92617572",
   "metadata": {},
   "outputs": [
    {
     "name": "stdout",
     "output_type": "stream",
     "text": [
      "Pearsons correlation: -0.053\n"
     ]
    }
   ],
   "source": [
    "corr_dr3, _ = pearsonr(deathRate[15:22], d_rates_simulate[15:22])\n",
    "print('Pearsons correlation: %.3f' % corr_dr3)"
   ]
  },
  {
   "cell_type": "code",
   "execution_count": 426,
   "id": "15a878ac",
   "metadata": {},
   "outputs": [],
   "source": [
    "## the final week"
   ]
  },
  {
   "cell_type": "code",
   "execution_count": 427,
   "id": "0133532b",
   "metadata": {},
   "outputs": [
    {
     "data": {
      "text/plain": [
       "434.6918052256532"
      ]
     },
     "execution_count": 427,
     "metadata": {},
     "output_type": "execute_result"
    }
   ],
   "source": [
    "# MAE\n",
    "infected_cases_MAE_w4 = mean_absolute_error(total_cases1[22:], infected_simulate_df[22:])\n",
    "infected_cases_MAE_w4"
   ]
  },
  {
   "cell_type": "code",
   "execution_count": 428,
   "id": "d88b7ef4",
   "metadata": {},
   "outputs": [
    {
     "data": {
      "text/plain": [
       "6.125890736342043"
      ]
     },
     "execution_count": 428,
     "metadata": {},
     "output_type": "execute_result"
    }
   ],
   "source": [
    "death_cases_MAE_w4 = mean_absolute_error(total_deaths1[22:], dead_simulate_df[22:])\n",
    "death_cases_MAE_w4"
   ]
  },
  {
   "cell_type": "code",
   "execution_count": 429,
   "id": "73aab684",
   "metadata": {},
   "outputs": [
    {
     "data": {
      "text/plain": [
       "0.0014198499999999998"
      ]
     },
     "execution_count": 429,
     "metadata": {},
     "output_type": "execute_result"
    }
   ],
   "source": [
    "infected_rates_MAE_w4 = mean_absolute_error(infected_rate[22:], i_rates_simulate[22:])\n",
    "infected_rates_MAE_w4"
   ]
  },
  {
   "cell_type": "code",
   "execution_count": 430,
   "id": "0464634d",
   "metadata": {},
   "outputs": [
    {
     "data": {
      "text/plain": [
       "0.0003736036838978016"
      ]
     },
     "execution_count": 430,
     "metadata": {},
     "output_type": "execute_result"
    }
   ],
   "source": [
    "dead_rates_MAE_w4 = mean_absolute_error(deathRate[22:], d_rates_simulate[22:])\n",
    "dead_rates_MAE_w4"
   ]
  },
  {
   "cell_type": "code",
   "execution_count": 431,
   "id": "95e6c860",
   "metadata": {},
   "outputs": [
    {
     "data": {
      "text/plain": [
       "189056.30024020965"
      ]
     },
     "execution_count": 431,
     "metadata": {},
     "output_type": "execute_result"
    }
   ],
   "source": [
    "#MSE\n",
    "infected_cases_MSE_w4 = mean_squared_error(total_cases1[22:], infected_simulate_df[22:])\n",
    "infected_cases_MSE_w4"
   ]
  },
  {
   "cell_type": "code",
   "execution_count": 432,
   "id": "f25caf82",
   "metadata": {},
   "outputs": [
    {
     "data": {
      "text/plain": [
       "46.45700980585757"
      ]
     },
     "execution_count": 432,
     "metadata": {},
     "output_type": "execute_result"
    }
   ],
   "source": [
    "death_cases_MSE_w4 = mean_squared_error(total_deaths1[22:], dead_simulate_df[22:])\n",
    "death_cases_MSE_w4"
   ]
  },
  {
   "cell_type": "code",
   "execution_count": 433,
   "id": "c82e3700",
   "metadata": {},
   "outputs": [
    {
     "data": {
      "text/plain": [
       "2.02169868e-06"
      ]
     },
     "execution_count": 433,
     "metadata": {},
     "output_type": "execute_result"
    }
   ],
   "source": [
    "infected_rates_MSE_w4 = mean_squared_error(infected_rate[22:], i_rates_simulate[22:])\n",
    "infected_rates_MSE_w4 "
   ]
  },
  {
   "cell_type": "code",
   "execution_count": 434,
   "id": "34b1f1aa",
   "metadata": {},
   "outputs": [
    {
     "data": {
      "text/plain": [
       "1.589235668699861e-07"
      ]
     },
     "execution_count": 434,
     "metadata": {},
     "output_type": "execute_result"
    }
   ],
   "source": [
    "dead_rates_MSE_w4 = mean_squared_error(deathRate[22:], d_rates_simulate[22:])\n",
    "dead_rates_MSE_w4"
   ]
  },
  {
   "cell_type": "code",
   "execution_count": 435,
   "id": "50fac6a1",
   "metadata": {},
   "outputs": [],
   "source": [
    "#pearson"
   ]
  },
  {
   "cell_type": "code",
   "execution_count": 436,
   "id": "f71b2ddf",
   "metadata": {},
   "outputs": [
    {
     "name": "stdout",
     "output_type": "stream",
     "text": [
      "Pearsons correlation infected cases: -0.728\n"
     ]
    }
   ],
   "source": [
    "corr_i4, _ = pearsonr(total_cases1[22:], infected_simulate_df[22:])\n",
    "print('Pearsons correlation infected cases: %.3f' % corr_i3)"
   ]
  },
  {
   "cell_type": "code",
   "execution_count": 437,
   "id": "352be9e6",
   "metadata": {},
   "outputs": [
    {
     "name": "stdout",
     "output_type": "stream",
     "text": [
      "Pearsons correlation: 0.981\n"
     ]
    }
   ],
   "source": [
    "corr_d4, _ = pearsonr(total_deaths1[22:], dead_simulate_df[22:])\n",
    "print('Pearsons correlation: %.3f' % corr_d4)"
   ]
  },
  {
   "cell_type": "code",
   "execution_count": 438,
   "id": "6a626296",
   "metadata": {},
   "outputs": [
    {
     "name": "stdout",
     "output_type": "stream",
     "text": [
      "Pearsons correlation: -0.331\n"
     ]
    }
   ],
   "source": [
    "corr_ir4, _ = pearsonr(infected_rate[22:], i_rates_simulate[22:])\n",
    "print('Pearsons correlation: %.3f' % corr_ir4)"
   ]
  },
  {
   "cell_type": "code",
   "execution_count": 439,
   "id": "5650c7db",
   "metadata": {},
   "outputs": [
    {
     "name": "stdout",
     "output_type": "stream",
     "text": [
      "Pearsons correlation: 0.509\n"
     ]
    }
   ],
   "source": [
    "corr_dr4, _ = pearsonr(deathRate[22:], d_rates_simulate[22:])\n",
    "print('Pearsons correlation: %.3f' % corr_dr4)"
   ]
  },
  {
   "cell_type": "code",
   "execution_count": null,
   "id": "ad2594d4",
   "metadata": {},
   "outputs": [],
   "source": []
  },
  {
   "cell_type": "code",
   "execution_count": 154,
   "id": "df54ccc6",
   "metadata": {},
   "outputs": [
    {
     "data": {
      "text/plain": [
       "0     0.00270\n",
       "1     0.00001\n",
       "2     0.00001\n",
       "3     0.00001\n",
       "4     0.00020\n",
       "5     0.00030\n",
       "6     0.00010\n",
       "7     0.00010\n",
       "8     0.00001\n",
       "9     0.00001\n",
       "10    0.00001\n",
       "11    0.00010\n",
       "12    0.00001\n",
       "13    0.00001\n",
       "14    0.00001\n",
       "15    0.00001\n",
       "16    0.00001\n",
       "17    0.00001\n",
       "18    0.00020\n",
       "19    0.00001\n",
       "20    0.00010\n",
       "21    0.04170\n",
       "22    0.02540\n",
       "23    0.00020\n",
       "24    0.00001\n",
       "25    0.00001\n",
       "26    0.00001\n",
       "27    0.00001\n",
       "28    0.00110\n",
       "29    0.00020\n",
       "Name: infection_rate, dtype: float64"
      ]
     },
     "execution_count": 154,
     "metadata": {},
     "output_type": "execute_result"
    }
   ],
   "source": [
    "i_rates_simulate"
   ]
  },
  {
   "cell_type": "code",
   "execution_count": 289,
   "id": "276fd39a",
   "metadata": {},
   "outputs": [
    {
     "data": {
      "text/plain": [
       "[9.870530941917092e-05,\n",
       " 0.00018636417626796532,\n",
       " 0.00018814586055350993,\n",
       " 0.00019147167121985983,\n",
       " 0.00018173179712554935,\n",
       " 0.00018731440788692243,\n",
       " 0.00013647701627271647,\n",
       " 0.00012721225798788456,\n",
       " 0.00022449221997861978,\n",
       " 0.0001978857346478204,\n",
       " 0.00020833828245634873,\n",
       " 0.0002088133982658273,\n",
       " 0.0001901651027437938,\n",
       " 0.00012448034208338283,\n",
       " 0.00013600190046323792,\n",
       " 0.00022900582016866612,\n",
       " 0.00020726927188502198,\n",
       " 0.0002153462406461575,\n",
       " 0.0002010927663618007,\n",
       " 0.00018553272360137784,\n",
       " 0.00012958783703527734,\n",
       " 8.52832878014016e-05,\n",
       " 0.0002319752939779071,\n",
       " 0.0002179593775982896,\n",
       " 0.00021225798788454685,\n",
       " 0.00019527259769568832,\n",
       " 0.00017234825988834778,\n",
       " 0.0001169972680840955,\n",
       " 0.00011747238389357406,\n",
       " 0.00021855327236013777]"
      ]
     },
     "execution_count": 289,
     "metadata": {},
     "output_type": "execute_result"
    }
   ],
   "source": [
    "infected_rate"
   ]
  },
  {
   "cell_type": "code",
   "execution_count": 290,
   "id": "475ee4b6",
   "metadata": {},
   "outputs": [
    {
     "data": {
      "text/plain": [
       "[0.00024543162498047704,\n",
       " 8.924786362926437e-05,\n",
       " 4.4623931814632185e-05,\n",
       " 0.00017849572725852874,\n",
       " 0.00013387179544389658,\n",
       " 0.00026774359088779315,\n",
       " 0.0003123675227024253,\n",
       " 0.00013387179544389658,\n",
       " 0.00020080769316584485,\n",
       " 0.00013387179544389658,\n",
       " 0.00020080769316584485,\n",
       " 0.00013387179544389658,\n",
       " 0.00020080769316584485,\n",
       " 0.00022311965907316093,\n",
       " 0.00013387179544389658,\n",
       " 0.00013387179544389658,\n",
       " 0.0003346794886097414,\n",
       " 0.0002900555567951092,\n",
       " 0.0003123675227024253,\n",
       " 0.00013387179544389658,\n",
       " 0.0003569914545170575,\n",
       " 0.00022311965907316093,\n",
       " 0.00026774359088779315,\n",
       " 0.00024543162498047704,\n",
       " 0.00017849572725852874,\n",
       " 0.0002900555567951092,\n",
       " 0.00022311965907316093,\n",
       " 0.0003123675227024253,\n",
       " 0.0002900555567951092,\n",
       " 0.0002900555567951092]"
      ]
     },
     "execution_count": 290,
     "metadata": {},
     "output_type": "execute_result"
    }
   ],
   "source": [
    "deathRate\n"
   ]
  },
  {
   "cell_type": "code",
   "execution_count": 291,
   "id": "12903982",
   "metadata": {},
   "outputs": [
    {
     "data": {
      "text/plain": [
       "0     0.059000\n",
       "1     0.059000\n",
       "2     0.059000\n",
       "3     0.059000\n",
       "4     0.059000\n",
       "5     0.059000\n",
       "6     0.059000\n",
       "7     0.059000\n",
       "8     0.059000\n",
       "9     0.059000\n",
       "10    0.059000\n",
       "11    0.059000\n",
       "12    0.059000\n",
       "13    0.059000\n",
       "14    0.059000\n",
       "15    0.059000\n",
       "16    0.059000\n",
       "17    0.059000\n",
       "18    0.059000\n",
       "19    0.059000\n",
       "20    0.059000\n",
       "21    0.059060\n",
       "22    0.059044\n",
       "23    0.059033\n",
       "24    0.059024\n",
       "25    0.059053\n",
       "26    0.059071\n",
       "27    0.059034\n",
       "28    0.059019\n",
       "29    0.059053\n",
       "Name: dead_rate, dtype: float64"
      ]
     },
     "execution_count": 291,
     "metadata": {},
     "output_type": "execute_result"
    }
   ],
   "source": [
    "d_rates_simulate"
   ]
  },
  {
   "cell_type": "code",
   "execution_count": null,
   "id": "5b138ca8",
   "metadata": {},
   "outputs": [],
   "source": []
  },
  {
   "cell_type": "code",
   "execution_count": null,
   "id": "d6c08187",
   "metadata": {},
   "outputs": [],
   "source": []
  },
  {
   "cell_type": "code",
   "execution_count": null,
   "id": "c97dd6cc",
   "metadata": {},
   "outputs": [],
   "source": []
  }
 ],
 "metadata": {
  "kernelspec": {
   "display_name": "Python 3 (ipykernel)",
   "language": "python",
   "name": "python3"
  },
  "language_info": {
   "codemirror_mode": {
    "name": "ipython",
    "version": 3
   },
   "file_extension": ".py",
   "mimetype": "text/x-python",
   "name": "python",
   "nbconvert_exporter": "python",
   "pygments_lexer": "ipython3",
   "version": "3.8.11"
  }
 },
 "nbformat": 4,
 "nbformat_minor": 5
}
